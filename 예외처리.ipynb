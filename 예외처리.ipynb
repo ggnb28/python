{
 "cells": [
  {
   "cell_type": "code",
   "execution_count": 2,
   "id": "b956cf82",
   "metadata": {},
   "outputs": [
    {
     "name": "stdout",
     "output_type": "stream",
     "text": [
      "1부터 100사이의 임의의 자연수를 입력하세요 : 55\n",
      "Up\n",
      "1부터 100사이의 임의의 자연수를 입력하세요 : 70\n",
      "Down\n",
      "1부터 100사이의 임의의 자연수를 입력하세요 : 60\n",
      "Down\n",
      "1부터 100사이의 임의의 자연수를 입력하세요 : 56\n",
      "Up\n",
      "1부터 100사이의 임의의 자연수를 입력하세요 : 57\n",
      "Up\n",
      "1부터 100사이의 임의의 자연수를 입력하세요 : 58\n",
      "축하합니다! 6번만에 정답을 맞췄습니다.\n"
     ]
    }
   ],
   "source": [
    "import random\n",
    "cnum = random.randint(1, 100)\n",
    "\n",
    "n=1\n",
    "while True:\n",
    "    pnum = int(input(\"1부터 100사이의 임의의 자연수를 입력하세요 : \"))\n",
    "    if cnum>pnum:\n",
    "        print(\"Up\")\n",
    "        n=n+1\n",
    "    elif cnum<pnum:\n",
    "        print(\"Down\")\n",
    "        n=n+1\n",
    "    else:\n",
    "        print(\"축하합니다! {}번만에 정답을 맞췄습니다.\".format(n))\n",
    "        break\n",
    "        \n"
   ]
  },
  {
   "cell_type": "code",
   "execution_count": 5,
   "id": "95d68eff",
   "metadata": {},
   "outputs": [
    {
     "name": "stdout",
     "output_type": "stream",
     "text": [
      "0.14285714285714285\n",
      "0.16666666666666666\n",
      "0.2\n",
      "0.25\n",
      "0.3333333333333333\n",
      "0.5\n",
      "1.0\n",
      "0\n",
      "-1.0\n",
      "-0.5\n"
     ]
    }
   ],
   "source": [
    "for i in range(10):\n",
    "    try:\n",
    "        print(1/(7-i))\n",
    "    except:\n",
    "        print(0)"
   ]
  },
  {
   "cell_type": "code",
   "execution_count": null,
   "id": "dd30ed39",
   "metadata": {},
   "outputs": [],
   "source": [
    "while True:\n",
    "    try:\n",
    "        a = int(input(\"정수를 입력하세요 : \"))\n",
    "        print(a)\n",
    "        break\n",
    "    except:\n",
    "        print(\"ㄴㄴ\")"
   ]
  },
  {
   "cell_type": "code",
   "execution_count": 7,
   "id": "bbc1d931",
   "metadata": {},
   "outputs": [
    {
     "ename": "SyntaxError",
     "evalue": "invalid syntax (3455254698.py, line 2)",
     "output_type": "error",
     "traceback": [
      "\u001b[1;36m  Input \u001b[1;32mIn [7]\u001b[1;36m\u001b[0m\n\u001b[1;33m    에러가 날 수도 있는 코드\u001b[0m\n\u001b[1;37m        ^\u001b[0m\n\u001b[1;31mSyntaxError\u001b[0m\u001b[1;31m:\u001b[0m invalid syntax\n"
     ]
    }
   ],
   "source": [
    "try:\n",
    "    에러가 날 수도 있는 코드\n",
    "except:\n",
    "    에러가 날 수도 있는 코드가 에러가 났을 때 실행할 코드"
   ]
  },
  {
   "cell_type": "code",
   "execution_count": 11,
   "id": "626883e0",
   "metadata": {},
   "outputs": [
    {
     "name": "stdout",
     "output_type": "stream",
     "text": [
      "3의 배수를 입력하세요 : 5\n"
     ]
    },
    {
     "ename": "Exception",
     "evalue": "3의 배수를 입력해!",
     "output_type": "error",
     "traceback": [
      "\u001b[1;31m---------------------------------------------------------------------------\u001b[0m",
      "\u001b[1;31mException\u001b[0m                                 Traceback (most recent call last)",
      "Input \u001b[1;32mIn [11]\u001b[0m, in \u001b[0;36m<cell line: 2>\u001b[1;34m()\u001b[0m\n\u001b[0;32m      1\u001b[0m a \u001b[38;5;241m=\u001b[39m \u001b[38;5;28mint\u001b[39m(\u001b[38;5;28minput\u001b[39m(\u001b[38;5;124m\"\u001b[39m\u001b[38;5;124m3의 배수를 입력하세요 : \u001b[39m\u001b[38;5;124m\"\u001b[39m))\n\u001b[0;32m      2\u001b[0m \u001b[38;5;28;01mif\u001b[39;00m a\u001b[38;5;241m%\u001b[39m\u001b[38;5;241m3\u001b[39m \u001b[38;5;241m!=\u001b[39m \u001b[38;5;241m0\u001b[39m:\n\u001b[1;32m----> 3\u001b[0m     \u001b[38;5;28;01mraise\u001b[39;00m \u001b[38;5;167;01mException\u001b[39;00m(\u001b[38;5;124m\"\u001b[39m\u001b[38;5;124m3의 배수를 입력해!\u001b[39m\u001b[38;5;124m\"\u001b[39m)\n\u001b[0;32m      4\u001b[0m \u001b[38;5;28;01melse\u001b[39;00m:\n\u001b[0;32m      5\u001b[0m     \u001b[38;5;28mprint\u001b[39m(a)\n",
      "\u001b[1;31mException\u001b[0m: 3의 배수를 입력해!"
     ]
    }
   ],
   "source": [
    "a = int(input(\"3의 배수를 입력하세요 : \"))\n",
    "if a%3 != 0:\n",
    "    raise Exception(\"3의 배수를 입력해!\")\n",
    "else:\n",
    "    print(a)"
   ]
  },
  {
   "cell_type": "code",
   "execution_count": null,
   "id": "014c5571",
   "metadata": {},
   "outputs": [],
   "source": []
  },
  {
   "cell_type": "code",
   "execution_count": null,
   "id": "8dec903e",
   "metadata": {},
   "outputs": [],
   "source": []
  },
  {
   "cell_type": "code",
   "execution_count": null,
   "id": "f9c4a42c",
   "metadata": {},
   "outputs": [],
   "source": []
  },
  {
   "cell_type": "code",
   "execution_count": null,
   "id": "99afd16d",
   "metadata": {},
   "outputs": [],
   "source": []
  }
 ],
 "metadata": {
  "kernelspec": {
   "display_name": "Python 3 (ipykernel)",
   "language": "python",
   "name": "python3"
  },
  "language_info": {
   "codemirror_mode": {
    "name": "ipython",
    "version": 3
   },
   "file_extension": ".py",
   "mimetype": "text/x-python",
   "name": "python",
   "nbconvert_exporter": "python",
   "pygments_lexer": "ipython3",
   "version": "3.9.12"
  }
 },
 "nbformat": 4,
 "nbformat_minor": 5
}
