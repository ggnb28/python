{
 "cells": [
  {
   "cell_type": "code",
   "execution_count": 9,
   "id": "2399e4b1",
   "metadata": {},
   "outputs": [],
   "source": [
    "all = ['a', 'b', 'c', 'd', 'e', 'f', 'g', 'h', 'i', 'j', 'k', 'l', 'm', 'n', 'o', 'p' ,'q', 'r', 's', 't', 'u', 'v', 'w', 'x', 'y', 'z', \"0\", \"1\", \"2\", \"3\", \"4\", \"5\", \"6\", \"7\", \"8\", \"9\", \"0\",  \"-\", \"_\", \".\"]"
   ]
  },
  {
   "cell_type": "code",
   "execution_count": 15,
   "id": "3511460e",
   "metadata": {},
   "outputs": [
    {
     "name": "stdout",
     "output_type": "stream",
     "text": [
      "새로운 아이디 :.......dsdsdsgds.vdfsafasf..a.sfasfas..s.\n",
      ".......dsdsdsgds.vdfsafasf..a.sfasfas..s.\n",
      ".dsdsdsgds.vdfsafasf.a.sfasfas.s.\n"
     ]
    }
   ],
   "source": [
    "new_id = input(\"새로운 아이디 :\")\n",
    "\n",
    "# 1단계\n",
    "new_id = new_id.lower()\n",
    "print(new_id)\n",
    "\n",
    "# 2단계\n",
    "for i in new_id:\n",
    "    if i not in all:\n",
    "        new_id = new_id.replace(i, \"\")\n",
    "\n",
    "# 3단계\n",
    "while \"..\" in new_id:\n",
    "    new_id = new_id.replace(\"..\",\".\")\n",
    "print(new_id)\n",
    "\n",
    "# # 3-1단계    \n",
    "# while True:\n",
    "#     new_id = new_id.replace(\"..\",\".\")\n",
    "#     if \"..\" not in new_id:\n",
    "#         break\n",
    "\n",
    "# 4단계\n",
    "if \n",
    "\n",
    "# 5단계\n",
    "# 6단계\n",
    "# 7단계"
   ]
  },
  {
   "cell_type": "code",
   "execution_count": 6,
   "id": "0079de1c",
   "metadata": {},
   "outputs": [],
   "source": []
  },
  {
   "cell_type": "code",
   "execution_count": null,
   "id": "f314b9fc",
   "metadata": {},
   "outputs": [],
   "source": []
  }
 ],
 "metadata": {
  "kernelspec": {
   "display_name": "Python 3 (ipykernel)",
   "language": "python",
   "name": "python3"
  },
  "language_info": {
   "codemirror_mode": {
    "name": "ipython",
    "version": 3
   },
   "file_extension": ".py",
   "mimetype": "text/x-python",
   "name": "python",
   "nbconvert_exporter": "python",
   "pygments_lexer": "ipython3",
   "version": "3.9.12"
  }
 },
 "nbformat": 4,
 "nbformat_minor": 5
}
