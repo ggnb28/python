{
 "cells": [
  {
   "cell_type": "code",
   "execution_count": 1,
   "id": "66acdf4f",
   "metadata": {},
   "outputs": [],
   "source": [
    "def hjjh(x, y):\n",
    "    n=0\n",
    "    m=0\n",
    "    for i in range(x, y+1):\n",
    "        n = n+i\n",
    "        m = m+(i**2)\n",
    "    return n**2-m"
   ]
  },
  {
   "cell_type": "code",
   "execution_count": null,
   "id": "5e176723",
   "metadata": {},
   "outputs": [],
   "source": []
  }
 ],
 "metadata": {
  "kernelspec": {
   "display_name": "Python 3 (ipykernel)",
   "language": "python",
   "name": "python3"
  },
  "language_info": {
   "codemirror_mode": {
    "name": "ipython",
    "version": 3
   },
   "file_extension": ".py",
   "mimetype": "text/x-python",
   "name": "python",
   "nbconvert_exporter": "python",
   "pygments_lexer": "ipython3",
   "version": "3.9.12"
  }
 },
 "nbformat": 4,
 "nbformat_minor": 5
}
