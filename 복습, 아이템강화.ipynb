{
 "cells": [
  {
   "cell_type": "markdown",
   "id": "6e5ed1ec",
   "metadata": {},
   "source": [
    "변수 할당될 수 있는 자료형\n",
    "- 정수형 integer\n",
    "- 실수형 float\n",
    "- 문자형 string\n",
    "- 논리형 boolean"
   ]
  },
  {
   "cell_type": "code",
   "execution_count": 2,
   "id": "0af89a69",
   "metadata": {},
   "outputs": [
    {
     "data": {
      "text/plain": [
       "'N'"
      ]
     },
     "execution_count": 2,
     "metadata": {},
     "output_type": "execute_result"
    }
   ],
   "source": [
    "b = \"banana\"\n",
    "\"BaNaNa\"[2]"
   ]
  },
  {
   "cell_type": "code",
   "execution_count": 8,
   "id": "0df2db5b",
   "metadata": {},
   "outputs": [
    {
     "name": "stdout",
     "output_type": "stream",
     "text": [
      "오늘 점심은 초밥과 짜장면입니다.\n",
      "오늘 점심은 초밥과 짜장면입니다.\n"
     ]
    }
   ],
   "source": [
    "menu1 = \"초밥\"\n",
    "menu2 = \"짜장면\"\n",
    "# menu = \"국밥\"\n",
    "\n",
    "print(\"오늘 점심은 %s과 %s입니다.\"%(menu1, menu2))\n",
    "# print(\"오늘 점심은 {1}과 {2}입니다.\"format.(menu1, menu2))\n",
    "print(f\"오늘 점심은 {menu1}과 {menu2}입니다.\")"
   ]
  },
  {
   "cell_type": "code",
   "execution_count": 9,
   "id": "4325193e",
   "metadata": {},
   "outputs": [
    {
     "data": {
      "text/plain": [
       "True"
      ]
     },
     "execution_count": 9,
     "metadata": {},
     "output_type": "execute_result"
    }
   ],
   "source": [
    "6%3 == 0 and 6%2 == 0"
   ]
  },
  {
   "cell_type": "markdown",
   "id": "221284c6",
   "metadata": {},
   "source": [
    "## 조건문"
   ]
  },
  {
   "cell_type": "code",
   "execution_count": null,
   "id": "0c81350a",
   "metadata": {},
   "outputs": [],
   "source": [
    "if 명제1:\n",
    "    명제1이 참일 경우에 실행되는 코드\n",
    "    \n",
    "elif 명제2:\n",
    "    명제1은 거짓이지만, 명제2는 참일 경우에 실행되는 콛,\n",
    "    \n",
    "else:\n",
    "    명제1과 명제2가 모두 거짓일 경우에 실행되는 코드\n",
    "\n",
    "    pass 그냥 스킵\n",
    "\n"
   ]
  },
  {
   "cell_type": "code",
   "execution_count": 10,
   "id": "dac23304",
   "metadata": {},
   "outputs": [],
   "source": [
    "list1 = [\"a\", \"b\",\"c\",\"d\",\"e\"]"
   ]
  },
  {
   "cell_type": "code",
   "execution_count": 12,
   "id": "2da72774",
   "metadata": {},
   "outputs": [
    {
     "data": {
      "text/plain": [
       "['a', 'b', 'c', 'g', 'g', 'd', 'e']"
      ]
     },
     "execution_count": 12,
     "metadata": {},
     "output_type": "execute_result"
    }
   ],
   "source": [
    "list1.insert(3,\"g\")\n",
    "list1"
   ]
  },
  {
   "cell_type": "code",
   "execution_count": 13,
   "id": "d0f860e0",
   "metadata": {},
   "outputs": [],
   "source": [
    "del list1[3]"
   ]
  },
  {
   "cell_type": "code",
   "execution_count": 14,
   "id": "6b52d9ea",
   "metadata": {},
   "outputs": [
    {
     "data": {
      "text/plain": [
       "['a', 'b', 'c', 'd', 'e']"
      ]
     },
     "execution_count": 14,
     "metadata": {},
     "output_type": "execute_result"
    }
   ],
   "source": [
    "list1.remove(\"g\")\n",
    "list1"
   ]
  },
  {
   "cell_type": "code",
   "execution_count": 15,
   "id": "0a2db296",
   "metadata": {},
   "outputs": [
    {
     "data": {
      "text/plain": [
       "['a', 'b', 'c', 'd']"
      ]
     },
     "execution_count": 15,
     "metadata": {},
     "output_type": "execute_result"
    }
   ],
   "source": [
    "list1.pop()\n",
    "list1"
   ]
  },
  {
   "cell_type": "code",
   "execution_count": 16,
   "id": "94fbe5cc",
   "metadata": {},
   "outputs": [
    {
     "data": {
      "text/plain": [
       "['e', 'b', 'c', 'd']"
      ]
     },
     "execution_count": 16,
     "metadata": {},
     "output_type": "execute_result"
    }
   ],
   "source": [
    "list1[0] = \"e\"\n",
    "list1"
   ]
  },
  {
   "cell_type": "code",
   "execution_count": 17,
   "id": "eab55aa2",
   "metadata": {},
   "outputs": [
    {
     "data": {
      "text/plain": [
       "['d', 'c', 'b', 'e']"
      ]
     },
     "execution_count": 17,
     "metadata": {},
     "output_type": "execute_result"
    }
   ],
   "source": [
    "list1.reverse()\n",
    "list1"
   ]
  },
  {
   "cell_type": "code",
   "execution_count": 19,
   "id": "29409bbf",
   "metadata": {},
   "outputs": [],
   "source": [
    "list1.sort()"
   ]
  },
  {
   "cell_type": "code",
   "execution_count": 20,
   "id": "213a8eeb",
   "metadata": {},
   "outputs": [
    {
     "data": {
      "text/plain": [
       "['b', 'c', 'd', 'e']"
      ]
     },
     "execution_count": 20,
     "metadata": {},
     "output_type": "execute_result"
    }
   ],
   "source": [
    "list1"
   ]
  },
  {
   "cell_type": "code",
   "execution_count": 21,
   "id": "731570bc",
   "metadata": {},
   "outputs": [
    {
     "data": {
      "text/plain": [
       "0.05640666881789491"
      ]
     },
     "execution_count": 21,
     "metadata": {},
     "output_type": "execute_result"
    }
   ],
   "source": [
    "import random\n",
    "random.random()"
   ]
  },
  {
   "cell_type": "code",
   "execution_count": 27,
   "id": "957f483b",
   "metadata": {},
   "outputs": [
    {
     "data": {
      "text/plain": [
       "'d'"
      ]
     },
     "execution_count": 27,
     "metadata": {},
     "output_type": "execute_result"
    }
   ],
   "source": [
    "random.choice(list1)"
   ]
  },
  {
   "cell_type": "markdown",
   "id": "8df44df0",
   "metadata": {},
   "source": [
    "### 아이템 강화 시스템\n",
    "- 플레이어로부터 아이템의 강화 등급을 입력받습니다.(최대 10)\n",
    "- 강화 성공률은 0등급일때 70% 1등급을때 65%.. 1등급이 올라갈수록 5%씩 하락합니다.\n",
    "- 강화 실패시 50% 확률로 아이텡이 파괴됩니다.\n",
    "- 강화 성공시 \"강화 성공\" , 강화실패시 \"강화 실패\" 아이텡 파괴시 \"아이템 파괴\"를 출력해주세요."
   ]
  },
  {
   "cell_type": "code",
   "execution_count": 45,
   "id": "bf8121e5",
   "metadata": {},
   "outputs": [
    {
     "name": "stdout",
     "output_type": "stream",
     "text": [
      "강화 등급을 입력하세요 : 1\n",
      "강화 성공\n",
      "강화 등급을 입력하세요 : 2\n",
      "강화 성공\n",
      "강화 등급을 입력하세요 : 3\n",
      "강화 실패\n",
      "강화 등급을 입력하세요 : 4\n",
      "강화 성공\n",
      "강화 등급을 입력하세요 : d\n"
     ]
    },
    {
     "ename": "ValueError",
     "evalue": "invalid literal for int() with base 10: 'd'",
     "output_type": "error",
     "traceback": [
      "\u001b[1;31m---------------------------------------------------------------------------\u001b[0m",
      "\u001b[1;31mValueError\u001b[0m                                Traceback (most recent call last)",
      "Input \u001b[1;32mIn [45]\u001b[0m, in \u001b[0;36m<cell line: 3>\u001b[1;34m()\u001b[0m\n\u001b[0;32m      1\u001b[0m \u001b[38;5;28;01mwhile\u001b[39;00m \u001b[38;5;28;01mTrue\u001b[39;00m:\n\u001b[1;32m----> 3\u001b[0m     item \u001b[38;5;241m=\u001b[39m \u001b[38;5;28;43mint\u001b[39;49m\u001b[43m(\u001b[49m\u001b[38;5;28;43minput\u001b[39;49m\u001b[43m(\u001b[49m\u001b[38;5;124;43m\"\u001b[39;49m\u001b[38;5;124;43m강화 등급을 입력하세요 : \u001b[39;49m\u001b[38;5;124;43m\"\u001b[39;49m\u001b[43m)\u001b[49m\u001b[43m)\u001b[49m\n\u001b[0;32m      4\u001b[0m     prob \u001b[38;5;241m=\u001b[39m random\u001b[38;5;241m.\u001b[39mrandom()\n\u001b[0;32m      5\u001b[0m     prob2 \u001b[38;5;241m=\u001b[39m random\u001b[38;5;241m.\u001b[39mrandom()\n",
      "\u001b[1;31mValueError\u001b[0m: invalid literal for int() with base 10: 'd'"
     ]
    }
   ],
   "source": [
    "while True:\n",
    "\n",
    "    item = int(input(\"강화 등급을 입력하세요 : \"))\n",
    "    prob = random.random()\n",
    "    prob2 = random.random()\n",
    "\n",
    "    if prob<=0.7-(item*0.05):\n",
    "        print(\"강화 성공\")\n",
    "\n",
    "    elif prob >0.7-(item*0.05) and prob2 >= 0.5:\n",
    "        print(\"아이템 파괴.\")\n",
    "\n",
    "    else:\n",
    "        print(\"강화 실패\")"
   ]
  },
  {
   "cell_type": "code",
   "execution_count": null,
   "id": "65ee5d5c",
   "metadata": {},
   "outputs": [],
   "source": [
    "s"
   ]
  },
  {
   "cell_type": "code",
   "execution_count": null,
   "id": "0a9e684a",
   "metadata": {},
   "outputs": [],
   "source": []
  }
 ],
 "metadata": {
  "kernelspec": {
   "display_name": "Python 3 (ipykernel)",
   "language": "python",
   "name": "python3"
  },
  "language_info": {
   "codemirror_mode": {
    "name": "ipython",
    "version": 3
   },
   "file_extension": ".py",
   "mimetype": "text/x-python",
   "name": "python",
   "nbconvert_exporter": "python",
   "pygments_lexer": "ipython3",
   "version": "3.9.12"
  }
 },
 "nbformat": 4,
 "nbformat_minor": 5
}
