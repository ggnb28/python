{
 "cells": [
  {
   "cell_type": "code",
   "execution_count": null,
   "id": "d3724f74",
   "metadata": {},
   "outputs": [],
   "source": [
    "if 내가 부자다:\n",
    "    택시를 타고 가자.\n",
    "else:\n",
    "    버스를 타고가자."
   ]
  },
  {
   "cell_type": "code",
   "execution_count": 8,
   "id": "edf5d167",
   "metadata": {},
   "outputs": [
    {
     "name": "stdout",
     "output_type": "stream",
     "text": [
      "내가 가진 돈 : 888888888888\n",
      "리무진을 타고 가자.\n",
      "집이다!\n"
     ]
    }
   ],
   "source": [
    "money = int(input(\"내가 가진 돈 : \"))\n",
    "\n",
    "if money >= 4000 and money < 100000:\n",
    "    print(\"택시를 타고 가자.\")\n",
    "    \n",
    "elif money >= 1300 and money < 4000:\n",
    "    print(\"버스를 타고 가자.\")\n",
    "    \n",
    "elif money >= 100000:\n",
    "    print(\"리무진을 타고 가자.\")\n",
    "\n",
    "else:\n",
    "    print(\"뚜벅뚜벅,\")\n",
    "    \n",
    "print(\"집이다!\")"
   ]
  },
  {
   "cell_type": "markdown",
   "id": "b9c8aa41",
   "metadata": {},
   "source": [
    "- input 함수로 정수를 받습니다.\n",
    "- 만약 주어진 수가 3의 배수라면 \"3의 배수입니다.\"를 출력합니다.\n",
    "- 만약 주어진 수가 3의 배수가 아니라면 \"3의 배수가 아닙니다.\"를 출력합니다."
   ]
  },
  {
   "cell_type": "code",
   "execution_count": 7,
   "id": "9970824b",
   "metadata": {},
   "outputs": [
    {
     "name": "stdout",
     "output_type": "stream",
     "text": [
      "정수를 입력하세요 : 7\n",
      "3의 배수가 아닙니다.\n"
     ]
    }
   ],
   "source": [
    "num = int(input(\"정수를 입력하세요 : \"))\n",
    "\n",
    "if num%3 == 0:\n",
    "    print(\"3의 배수입니다.\")\n",
    "else:\n",
    "    print(\"3의 배수가 아닙니다.\")"
   ]
  },
  {
   "cell_type": "markdown",
   "id": "99a40d7f",
   "metadata": {},
   "source": [
    "### 추석 선물 세트 구매\n",
    "- 추석 선물세트는 1개에 1만원입니다.\n",
    "- 추석 선물세트를 11개 이상 사면, 11개째부터 10% 할인됩니다.\n",
    "- 추석 선물세트를 몇 개 샀는지 input 함수로 받아, 총 얼마인지를 출력해주세요."
   ]
  },
  {
   "cell_type": "code",
   "execution_count": 15,
   "id": "2fd1fd2d",
   "metadata": {},
   "outputs": [
    {
     "name": "stdout",
     "output_type": "stream",
     "text": [
      "추석 선물세트를 몇 개 구매하셨나요 : 11\n",
      "총 가격은 109000원입니다.\n"
     ]
    }
   ],
   "source": [
    "css = int(input(\"추석 선물세트를 몇 개 구매하셨나요 : \"))\n",
    "cost1 = css*10000\n",
    "cost2 = int(((css-10)*9000)+100000)\n",
    "\n",
    "if css >= 11:\n",
    "    print(f\"총 가격은 {cost2}원입니다.\")\n",
    "    \n",
    "else:\n",
    "    print(f\"총 가격은 {cost1}원입니다.\")"
   ]
  },
  {
   "cell_type": "code",
   "execution_count": 16,
   "id": "7aed7725",
   "metadata": {},
   "outputs": [
    {
     "name": "stdout",
     "output_type": "stream",
     "text": [
      "추석 선물세트를 몇 개 구매하셨나요 : 11\n",
      "109000\n"
     ]
    }
   ],
   "source": [
    "css = int(input(\"추석 선물세트를 몇 개 구매하셨나요 : \"))\n",
    "\n",
    "cost = 10000\n",
    "\n",
    "if css <= 10:\n",
    "    cost = csss * cost\n",
    "    \n",
    "else:\n",
    "    cost = css * cost - ((css-10)*cost*0.1)\n",
    "    print(int(cost))"
   ]
  },
  {
   "cell_type": "code",
   "execution_count": null,
   "id": "dbcb196d",
   "metadata": {},
   "outputs": [],
   "source": []
  }
 ],
 "metadata": {
  "kernelspec": {
   "display_name": "Python 3 (ipykernel)",
   "language": "python",
   "name": "python3"
  },
  "language_info": {
   "codemirror_mode": {
    "name": "ipython",
    "version": 3
   },
   "file_extension": ".py",
   "mimetype": "text/x-python",
   "name": "python",
   "nbconvert_exporter": "python",
   "pygments_lexer": "ipython3",
   "version": "3.9.12"
  }
 },
 "nbformat": 4,
 "nbformat_minor": 5
}
