{
 "cells": [
  {
   "cell_type": "code",
   "execution_count": 23,
   "id": "d0894848",
   "metadata": {},
   "outputs": [],
   "source": [
    "csb = {\"이름은\":\"홍길동\", \"나이는\":20,\"키\":168}\n",
    "\n",
    "class1_4 = {\"이름\":[\"홍길동\",\"김철수\",\"김영희\"], \n",
    "            \"나이\": [20,21,22], \n",
    "            \"키\": [168,177,203]}"
   ]
  },
  {
   "cell_type": "code",
   "execution_count": 24,
   "id": "3dff4ddc",
   "metadata": {},
   "outputs": [
    {
     "data": {
      "text/plain": [
       "['홍길동', '김철수', '김영희']"
      ]
     },
     "execution_count": 24,
     "metadata": {},
     "output_type": "execute_result"
    }
   ],
   "source": [
    "class1_4[\"이름\"]"
   ]
  },
  {
   "cell_type": "code",
   "execution_count": 7,
   "id": "343468cd",
   "metadata": {},
   "outputs": [
    {
     "data": {
      "text/plain": [
       "{'이름': ['홍길동', '감철수', '치영희'],\n",
       " '나이': [20, 21, 22],\n",
       " '키': [168, 177, 203],\n",
       " '발 사이즈': [290, 275, 240]}"
      ]
     },
     "execution_count": 7,
     "metadata": {},
     "output_type": "execute_result"
    }
   ],
   "source": [
    "class1_4[\"발 사이즈\"] = [290,275,240]\n",
    "class1_4"
   ]
  },
  {
   "cell_type": "code",
   "execution_count": 10,
   "id": "0cb724ae",
   "metadata": {},
   "outputs": [
    {
     "data": {
      "text/plain": [
       "{'이름': ['홍길동', '감철수', '치영희'], '나이': [20, 21, 22], '키': [168, 177, 203]}"
      ]
     },
     "execution_count": 10,
     "metadata": {},
     "output_type": "execute_result"
    }
   ],
   "source": [
    "# del class1_4[\"발 사이즈\"]\n",
    "class1_4"
   ]
  },
  {
   "cell_type": "code",
   "execution_count": 11,
   "id": "eb9453ad",
   "metadata": {},
   "outputs": [
    {
     "data": {
      "text/plain": [
       "dict_keys(['이름', '나이', '키'])"
      ]
     },
     "execution_count": 11,
     "metadata": {},
     "output_type": "execute_result"
    }
   ],
   "source": [
    "class1_4.keys()"
   ]
  },
  {
   "cell_type": "code",
   "execution_count": 12,
   "id": "7582906d",
   "metadata": {},
   "outputs": [
    {
     "data": {
      "text/plain": [
       "dict_values([['홍길동', '감철수', '치영희'], [20, 21, 22], [168, 177, 203]])"
      ]
     },
     "execution_count": 12,
     "metadata": {},
     "output_type": "execute_result"
    }
   ],
   "source": [
    "class1_4.values()"
   ]
  },
  {
   "cell_type": "code",
   "execution_count": 14,
   "id": "e8a554dd",
   "metadata": {},
   "outputs": [
    {
     "name": "stdout",
     "output_type": "stream",
     "text": [
      "이름\n",
      "나이\n",
      "키\n"
     ]
    }
   ],
   "source": [
    "for i in class1_4:\n",
    "    print(i)"
   ]
  },
  {
   "cell_type": "code",
   "execution_count": 15,
   "id": "edc06329",
   "metadata": {},
   "outputs": [
    {
     "data": {
      "text/plain": [
       "False"
      ]
     },
     "execution_count": 15,
     "metadata": {},
     "output_type": "execute_result"
    }
   ],
   "source": [
    "\"홍길동\" in class1_4 "
   ]
  },
  {
   "cell_type": "markdown",
   "id": "30baa279",
   "metadata": {},
   "source": [
    "### class1_4의 \"이름\" key에 할당된 value들을 전부 성을 뺀 이름들로 출력하고 싶습니다.\n",
    "- 홍길동>길동\n",
    "- 김철수>철수\n",
    "- 김영희>영희"
   ]
  },
  {
   "cell_type": "code",
   "execution_count": 26,
   "id": "7381cd7e",
   "metadata": {},
   "outputs": [
    {
     "name": "stdout",
     "output_type": "stream",
     "text": [
      "길동\n",
      "철수\n",
      "영희\n"
     ]
    }
   ],
   "source": [
    "for i in class1_4[\"이름\"]:\n",
    "    print(i[1:])"
   ]
  },
  {
   "cell_type": "code",
   "execution_count": 27,
   "id": "bb3deff4",
   "metadata": {},
   "outputs": [
    {
     "data": {
      "text/plain": [
       "{'이름': ['길동', '철수', '영희'], '나이': [20, 21, 22], '키': [168, 177, 203]}"
      ]
     },
     "execution_count": 27,
     "metadata": {},
     "output_type": "execute_result"
    }
   ],
   "source": [
    "class1_4[\"이름\"] = [\"길동\", \"철수\",\"영희\"]\n",
    "class1_4"
   ]
  },
  {
   "cell_type": "code",
   "execution_count": 30,
   "id": "8f314287",
   "metadata": {
    "scrolled": true
   },
   "outputs": [
    {
     "ename": "SyntaxError",
     "evalue": "invalid syntax (954306730.py, line 1)",
     "output_type": "error",
     "traceback": [
      "\u001b[1;36m  Input \u001b[1;32mIn [30]\u001b[1;36m\u001b[0m\n\u001b[1;33m    new_name = [\"이름\"]:\u001b[0m\n\u001b[1;37m                     ^\u001b[0m\n\u001b[1;31mSyntaxError\u001b[0m\u001b[1;31m:\u001b[0m invalid syntax\n"
     ]
    }
   ],
   "source": [
    "new_name = [\"이름\"]:\n",
    "    for i in class1_4[\"이름\"]\n",
    "    new_name.append(i[1:])\n",
    "class1_4[\"이름\"] = new_name\n",
    "class1_4"
   ]
  },
  {
   "cell_type": "code",
   "execution_count": 31,
   "id": "2815d52b",
   "metadata": {},
   "outputs": [
    {
     "data": {
      "text/plain": [
       "[0, 1, 4, 9, 16, 25, 36, 49, 64, 81]"
      ]
     },
     "execution_count": 31,
     "metadata": {},
     "output_type": "execute_result"
    }
   ],
   "source": [
    "jegop = [i**2 for i in range(10)]\n",
    "jegop"
   ]
  },
  {
   "cell_type": "code",
   "execution_count": 32,
   "id": "8e4ddae2",
   "metadata": {},
   "outputs": [
    {
     "data": {
      "text/plain": [
       "[0, 1, 4, 9, 16, 25, 36, 49, 64, 81]"
      ]
     },
     "execution_count": 32,
     "metadata": {},
     "output_type": "execute_result"
    }
   ],
   "source": [
    "[i**2 for i in range(10)] "
   ]
  },
  {
   "cell_type": "markdown",
   "id": "7c923f33",
   "metadata": {},
   "source": [
    "- 여러 학생의 성적 점수가 다음과 같은 Dictionary로 구성되어 있다."
   ]
  },
  {
   "cell_type": "code",
   "execution_count": 1,
   "id": "08b1b103",
   "metadata": {},
   "outputs": [],
   "source": [
    "scores = {'홍길동':{'수학':99,'영어':80,'국어':75},\n",
    "          '김미정':{'영어':67,'국어':87,'수학':55},\n",
    "          '정수진':{'수학':67,'국어':41,'영어':23}}"
   ]
  },
  {
   "cell_type": "markdown",
   "id": "58273832",
   "metadata": {},
   "source": [
    "- 이 때, 학생들의 평균을 저장하는 새로운 항목늘 추가하고 싶다.\n",
    "- scores에 학생들의 수학,영어,국어 평균 성적을 기록한 \"성적\" 정보를 추가해주세요."
   ]
  },
  {
   "cell_type": "code",
   "execution_count": 37,
   "id": "fe467412",
   "metadata": {},
   "outputs": [],
   "source": [
    "sj = {\"이름\":[\"홍길동\",\"김미정\",\"정수진\"],\n",
    "     \"수학\":[99,55,67],\n",
    "     \"영어\":[80,67,23],\n",
    "     \"국어\":[75,87,41]}"
   ]
  },
  {
   "cell_type": "code",
   "execution_count": null,
   "id": "1780cac5",
   "metadata": {},
   "outputs": [],
   "source": [
    "# for i in sj[\"수학\"]:\n",
    "#     print(i)\n",
    "# ave = \n",
    "# sj[\"성적\"] = "
   ]
  },
  {
   "cell_type": "code",
   "execution_count": 38,
   "id": "b6dd86fb",
   "metadata": {},
   "outputs": [
    {
     "data": {
      "text/plain": [
       "99"
      ]
     },
     "execution_count": 38,
     "metadata": {},
     "output_type": "execute_result"
    }
   ],
   "source": [
    "scores[\"홍길동\"][\"수학\"]"
   ]
  },
  {
   "cell_type": "code",
   "execution_count": 6,
   "id": "3701f823",
   "metadata": {},
   "outputs": [
    {
     "data": {
      "text/plain": [
       "{'홍길동': {'수학': 99, '영어': 80, '국어': 75},\n",
       " '김미정': {'영어': 67, '국어': 87, '수학': 55},\n",
       " '정수진': {'수학': 67, '국어': 41, '영어': 23},\n",
       " '평균 점수': {'국어': 68, '영어': 56.666666666666664, '수학': 73.66666666666667}}"
      ]
     },
     "execution_count": 6,
     "metadata": {},
     "output_type": "execute_result"
    }
   ],
   "source": [
    "math=0\n",
    "eng=0\n",
    "kor=0\n",
    "for i in scores:\n",
    "    math= math+(scores[i][\"수학\"])\n",
    "    eng= eng+(scores[i][\"영어\"])\n",
    "    kor= kor+(scores[i][\"국어\"])\n",
    "    \n",
    "scores[\"평균 점수\"] = {\"국어\":round(kor/len(scores)), \"영어\":eng/len(scores),\"수학\":math/len(scores)}\n",
    "scores"
   ]
  },
  {
   "cell_type": "code",
   "execution_count": 7,
   "id": "ed56be4d",
   "metadata": {},
   "outputs": [],
   "source": [
    "dir=56.6666666666"
   ]
  },
  {
   "cell_type": "code",
   "execution_count": 8,
   "id": "018e59a7",
   "metadata": {},
   "outputs": [
    {
     "data": {
      "text/plain": [
       "57"
      ]
     },
     "execution_count": 8,
     "metadata": {},
     "output_type": "execute_result"
    }
   ],
   "source": [
    "round(dir)"
   ]
  },
  {
   "cell_type": "code",
   "execution_count": 9,
   "id": "32e20c34",
   "metadata": {},
   "outputs": [],
   "source": [
    "import math"
   ]
  },
  {
   "cell_type": "code",
   "execution_count": 10,
   "id": "4fe81b3d",
   "metadata": {},
   "outputs": [
    {
     "data": {
      "text/plain": [
       "56"
      ]
     },
     "execution_count": 10,
     "metadata": {},
     "output_type": "execute_result"
    }
   ],
   "source": [
    "math.floor(dir)"
   ]
  },
  {
   "cell_type": "code",
   "execution_count": 11,
   "id": "e6390e34",
   "metadata": {},
   "outputs": [
    {
     "data": {
      "text/plain": [
       "57"
      ]
     },
     "execution_count": 11,
     "metadata": {},
     "output_type": "execute_result"
    }
   ],
   "source": [
    "math.ceil(dir)"
   ]
  },
  {
   "cell_type": "code",
   "execution_count": 12,
   "id": "94205eae",
   "metadata": {},
   "outputs": [
    {
     "data": {
      "text/plain": [
       "56.67"
      ]
     },
     "execution_count": 12,
     "metadata": {},
     "output_type": "execute_result"
    }
   ],
   "source": [
    "round(dir, 2)"
   ]
  },
  {
   "cell_type": "code",
   "execution_count": 14,
   "id": "0c6663c5",
   "metadata": {},
   "outputs": [
    {
     "name": "stdout",
     "output_type": "stream",
     "text": [
      "새로운 아이디 :TTTTTT\n"
     ]
    },
    {
     "data": {
      "text/plain": [
       "'tttttt'"
      ]
     },
     "execution_count": 14,
     "metadata": {},
     "output_type": "execute_result"
    }
   ],
   "source": []
  },
  {
   "cell_type": "code",
   "execution_count": null,
   "id": "42a93ae6",
   "metadata": {},
   "outputs": [],
   "source": []
  }
 ],
 "metadata": {
  "kernelspec": {
   "display_name": "Python 3 (ipykernel)",
   "language": "python",
   "name": "python3"
  },
  "language_info": {
   "codemirror_mode": {
    "name": "ipython",
    "version": 3
   },
   "file_extension": ".py",
   "mimetype": "text/x-python",
   "name": "python",
   "nbconvert_exporter": "python",
   "pygments_lexer": "ipython3",
   "version": "3.9.12"
  }
 },
 "nbformat": 4,
 "nbformat_minor": 5
}
