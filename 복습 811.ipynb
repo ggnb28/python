{
 "cells": [
  {
   "cell_type": "markdown",
   "id": "4620e7a8",
   "metadata": {},
   "source": []
  },
  {
   "cell_type": "code",
   "execution_count": 4,
   "id": "37dfc15b",
   "metadata": {},
   "outputs": [],
   "source": [
    "n = \"abcdefghijkfkgmd;fgmds;ld;lgs;dlgmdsnf\""
   ]
  },
  {
   "cell_type": "code",
   "execution_count": 2,
   "id": "fcf464c7",
   "metadata": {},
   "outputs": [
    {
     "data": {
      "text/plain": [
       "'def'"
      ]
     },
     "execution_count": 2,
     "metadata": {},
     "output_type": "execute_result"
    }
   ],
   "source": [
    "n[3:6]"
   ]
  },
  {
   "cell_type": "code",
   "execution_count": 6,
   "id": "df1a0f77",
   "metadata": {},
   "outputs": [
    {
     "data": {
      "text/plain": [
       "'adgjkdgsdgdmn'"
      ]
     },
     "execution_count": 6,
     "metadata": {},
     "output_type": "execute_result"
    }
   ],
   "source": [
    "n[::3]"
   ]
  },
  {
   "cell_type": "code",
   "execution_count": 9,
   "id": "a016f171",
   "metadata": {},
   "outputs": [
    {
     "name": "stdout",
     "output_type": "stream",
     "text": [
      "오늘의 메뉴는 꽈배기와 짬뽕입니다.\n"
     ]
    }
   ],
   "source": [
    "# lunch_menu = \"곱창볶음\"\n",
    "lunch_menu2 = \"꽈배기\"\n",
    "lunch_menu3 = \"짬뽕\"\n",
    "\n",
    "print(\"오늘의 메뉴는 %s와 %s입니다.\"%(lunch_menu2, lunch_menu3))"
   ]
  },
  {
   "cell_type": "code",
   "execution_count": 11,
   "id": "9cf35b6c",
   "metadata": {},
   "outputs": [
    {
     "name": "stdout",
     "output_type": "stream",
     "text": [
      "오늘의 메뉴는 곱창볶음입니다.\n",
      "오늘의 메뉴는 곱창볶음입니다.\n"
     ]
    }
   ],
   "source": [
    "lunch_menu = \"곱창볶음\"\n",
    "# lunch_menu = \"꽈배기\"\n",
    "# lunch_menu = \"짬뽕\"\n",
    "\n",
    "print(\"오늘의 메뉴는 {}입니다.\".format(lunch_menu))\n",
    "print(f\"오늘의 메뉴는 {lunch_menu}입니다.\")"
   ]
  },
  {
   "cell_type": "code",
   "execution_count": 14,
   "id": "89514047",
   "metadata": {},
   "outputs": [
    {
     "data": {
      "text/plain": [
       "300"
      ]
     },
     "execution_count": 14,
     "metadata": {},
     "output_type": "execute_result"
    }
   ],
   "source": [
    "x = 100\n",
    "y = 200\n",
    "add = x + y\n",
    "# print(f\"{x}과\")\n",
    "add"
   ]
  },
  {
   "cell_type": "code",
   "execution_count": null,
   "id": "15821c68",
   "metadata": {},
   "outputs": [],
   "source": []
  }
 ],
 "metadata": {
  "kernelspec": {
   "display_name": "Python 3 (ipykernel)",
   "language": "python",
   "name": "python3"
  },
  "language_info": {
   "codemirror_mode": {
    "name": "ipython",
    "version": 3
   },
   "file_extension": ".py",
   "mimetype": "text/x-python",
   "name": "python",
   "nbconvert_exporter": "python",
   "pygments_lexer": "ipython3",
   "version": "3.9.12"
  }
 },
 "nbformat": 4,
 "nbformat_minor": 5
}
