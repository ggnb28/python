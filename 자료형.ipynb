{
 "cells": [
  {
   "cell_type": "markdown",
   "id": "190cb24a",
   "metadata": {},
   "source": []
  },
  {
   "cell_type": "code",
   "execution_count": 4,
   "id": "37be0fd3",
   "metadata": {},
   "outputs": [],
   "source": [
    "n = \"abcdefghijkfkgmd;fgmds;ld;lgs;dlgmdsnf\""
   ]
  },
  {
   "cell_type": "code",
   "execution_count": 2,
   "id": "02f12926",
   "metadata": {},
   "outputs": [
    {
     "data": {
      "text/plain": [
       "'def'"
      ]
     },
     "execution_count": 2,
     "metadata": {},
     "output_type": "execute_result"
    }
   ],
   "source": [
    "n[3:6]"
   ]
  },
  {
   "cell_type": "code",
   "execution_count": 6,
   "id": "9722cba0",
   "metadata": {},
   "outputs": [
    {
     "data": {
      "text/plain": [
       "'adgjkdgsdgdmn'"
      ]
     },
     "execution_count": 6,
     "metadata": {},
     "output_type": "execute_result"
    }
   ],
   "source": [
    "n[::3]"
   ]
  },
  {
   "cell_type": "code",
   "execution_count": 9,
   "id": "7e8c09a5",
   "metadata": {},
   "outputs": [
    {
     "name": "stdout",
     "output_type": "stream",
     "text": [
      "오늘의 메뉴는 꽈배기와 짬뽕입니다.\n"
     ]
    }
   ],
   "source": [
    "# lunch_menu = \"곱창볶음\"\n",
    "lunch_menu2 = \"꽈배기\"\n",
    "lunch_menu3 = \"짬뽕\"\n",
    "\n",
    "print(\"오늘의 메뉴는 %s와 %s입니다.\"%(lunch_menu2, lunch_menu3))"
   ]
  },
  {
   "cell_type": "code",
   "execution_count": 11,
   "id": "4f19f5c5",
   "metadata": {},
   "outputs": [
    {
     "name": "stdout",
     "output_type": "stream",
     "text": [
      "오늘의 메뉴는 곱창볶음입니다.\n",
      "오늘의 메뉴는 곱창볶음입니다.\n"
     ]
    }
   ],
   "source": [
    "lunch_menu = \"곱창볶음\"\n",
    "# lunch_menu = \"꽈배기\"\n",
    "# lunch_menu = \"짬뽕\"\n",
    "\n",
    "print(\"오늘의 메뉴는 {}입니다.\".format(lunch_menu))\n",
    "print(f\"오늘의 메뉴는 {lunch_menu}입니다.\")"
   ]
  },
  {
   "cell_type": "code",
   "execution_count": 2,
   "id": "7e901e87",
   "metadata": {},
   "outputs": [
    {
     "name": "stdout",
     "output_type": "stream",
     "text": [
      "100과 200의 합은 300입니다. \n"
     ]
    }
   ],
   "source": [
    "x = 100\n",
    "y = 200\n",
    "add = x + y\n",
    "\n",
    "print(f\"{x}과 {y}의 합은 {add}입니다.\")"
   ]
  },
  {
   "cell_type": "code",
   "execution_count": 4,
   "id": "6550c526",
   "metadata": {},
   "outputs": [],
   "source": [
    "song = \"tell me tell me tetetete tell me\""
   ]
  },
  {
   "cell_type": "code",
   "execution_count": 5,
   "id": "18796fb4",
   "metadata": {},
   "outputs": [
    {
     "data": {
      "text/plain": [
       "3"
      ]
     },
     "execution_count": 5,
     "metadata": {},
     "output_type": "execute_result"
    }
   ],
   "source": [
    "song.count(\"tell me\")"
   ]
  },
  {
   "cell_type": "code",
   "execution_count": 6,
   "id": "bc46af2d",
   "metadata": {},
   "outputs": [
    {
     "data": {
      "text/plain": [
       "16"
      ]
     },
     "execution_count": 6,
     "metadata": {},
     "output_type": "execute_result"
    }
   ],
   "source": [
    "song.find(\"tetetete\")"
   ]
  },
  {
   "cell_type": "code",
   "execution_count": 7,
   "id": "7c328647",
   "metadata": {},
   "outputs": [
    {
     "data": {
      "text/plain": [
       "'TELL ME TELL ME TETETETE TELL ME'"
      ]
     },
     "execution_count": 7,
     "metadata": {},
     "output_type": "execute_result"
    }
   ],
   "source": [
    "song.upper()"
   ]
  },
  {
   "cell_type": "code",
   "execution_count": 8,
   "id": "4a9c324a",
   "metadata": {},
   "outputs": [
    {
     "data": {
      "text/plain": [
       "'tell me tell me tetetete tell me'"
      ]
     },
     "execution_count": 8,
     "metadata": {},
     "output_type": "execute_result"
    }
   ],
   "source": [
    "song.lower()"
   ]
  },
  {
   "cell_type": "code",
   "execution_count": 9,
   "id": "993ee212",
   "metadata": {},
   "outputs": [
    {
     "data": {
      "text/plain": [
       "'Tell Me Tell Me Tetetete Tell Me'"
      ]
     },
     "execution_count": 9,
     "metadata": {},
     "output_type": "execute_result"
    }
   ],
   "source": [
    "song.title()"
   ]
  },
  {
   "cell_type": "code",
   "execution_count": 11,
   "id": "bc2eed29",
   "metadata": {},
   "outputs": [
    {
     "data": {
      "text/plain": [
       "'yell me yell me yeyeyeye yell me'"
      ]
     },
     "execution_count": 11,
     "metadata": {},
     "output_type": "execute_result"
    }
   ],
   "source": [
    "song.replace(\"te\", \"ye\")"
   ]
  },
  {
   "cell_type": "code",
   "execution_count": 12,
   "id": "f57b9baf",
   "metadata": {},
   "outputs": [
    {
     "data": {
      "text/plain": [
       "'tell me tell me tetetete tell me'"
      ]
     },
     "execution_count": 12,
     "metadata": {},
     "output_type": "execute_result"
    }
   ],
   "source": [
    "song"
   ]
  },
  {
   "cell_type": "code",
   "execution_count": 13,
   "id": "9588a1f4",
   "metadata": {},
   "outputs": [
    {
     "data": {
      "text/plain": [
       "['tell', 'me', 'tell', 'me', 'tetetete', 'tell', 'me']"
      ]
     },
     "execution_count": 13,
     "metadata": {},
     "output_type": "execute_result"
    }
   ],
   "source": [
    "song.split(\" \")"
   ]
  },
  {
   "cell_type": "code",
   "execution_count": 14,
   "id": "3d81c4b9",
   "metadata": {},
   "outputs": [],
   "source": [
    "sentence = \"아이조아. 아이시러.\""
   ]
  },
  {
   "cell_type": "code",
   "execution_count": 17,
   "id": "59078a10",
   "metadata": {},
   "outputs": [
    {
     "data": {
      "text/plain": [
       "['아이조아', '아이시러.']"
      ]
     },
     "execution_count": 17,
     "metadata": {},
     "output_type": "execute_result"
    }
   ],
   "source": [
    "sentence.split(\". \")"
   ]
  },
  {
   "cell_type": "code",
   "execution_count": 22,
   "id": "dbd0a9ba",
   "metadata": {},
   "outputs": [
    {
     "data": {
      "text/plain": [
       "'tell'"
      ]
     },
     "execution_count": 22,
     "metadata": {},
     "output_type": "execute_result"
    }
   ],
   "source": [
    "ah_ryeon = \"................tell............\"\n",
    "ah_ryeon.strip(\".\")"
   ]
  },
  {
   "cell_type": "code",
   "execution_count": null,
   "id": "83c863ba",
   "metadata": {},
   "outputs": [],
   "source": []
  }
 ],
 "metadata": {
  "kernelspec": {
   "display_name": "Python 3 (ipykernel)",
   "language": "python",
   "name": "python3"
  },
  "language_info": {
   "codemirror_mode": {
    "name": "ipython",
    "version": 3
   },
   "file_extension": ".py",
   "mimetype": "text/x-python",
   "name": "python",
   "nbconvert_exporter": "python",
   "pygments_lexer": "ipython3",
   "version": "3.9.12"
  }
 },
 "nbformat": 4,
 "nbformat_minor": 5
}
