{
 "cells": [
  {
   "cell_type": "code",
   "execution_count": 46,
   "id": "7dfac1d3",
   "metadata": {},
   "outputs": [
    {
     "data": {
      "text/plain": [
       "1.0"
      ]
     },
     "execution_count": 46,
     "metadata": {},
     "output_type": "execute_result"
    }
   ],
   "source": [
    "distance = 10 \n",
    "velocity = 10\n",
    "time = distance/velocity\n",
    "time"
   ]
  },
  {
   "cell_type": "code",
   "execution_count": 4,
   "id": "cfea388e",
   "metadata": {},
   "outputs": [
    {
     "ename": "NameError",
     "evalue": "name 'me' is not defined",
     "output_type": "error",
     "traceback": [
      "\u001b[1;31m---------------------------------------------------------------------------\u001b[0m",
      "\u001b[1;31mNameError\u001b[0m                                 Traceback (most recent call last)",
      "Input \u001b[1;32mIn [4]\u001b[0m, in \u001b[0;36m<cell line: 3>\u001b[1;34m()\u001b[0m\n\u001b[0;32m      1\u001b[0m meter_per_second \u001b[38;5;241m=\u001b[39m \u001b[38;5;241m1\u001b[39m\n\u001b[0;32m      2\u001b[0m meter_per_second\n\u001b[1;32m----> 3\u001b[0m \u001b[43mme\u001b[49m\n",
      "\u001b[1;31mNameError\u001b[0m: name 'me' is not defined"
     ]
    }
   ],
   "source": [
    "meter_per_second = 1\n",
    "meter_per_second\n",
    "me"
   ]
  },
  {
   "cell_type": "code",
   "execution_count": 2,
   "id": "ee0cd4e4",
   "metadata": {},
   "outputs": [],
   "source": [
    "a=10"
   ]
  },
  {
   "cell_type": "code",
   "execution_count": 3,
   "id": "2c473d6a",
   "metadata": {},
   "outputs": [
    {
     "data": {
      "text/plain": [
       "int"
      ]
     },
     "execution_count": 3,
     "metadata": {},
     "output_type": "execute_result"
    }
   ],
   "source": [
    "type(a)"
   ]
  },
  {
   "cell_type": "code",
   "execution_count": 13,
   "id": "93ce14da",
   "metadata": {},
   "outputs": [
    {
     "data": {
      "text/plain": [
       "25"
      ]
     },
     "execution_count": 13,
     "metadata": {},
     "output_type": "execute_result"
    }
   ],
   "source": [
    "a=10\n",
    "b=15\n",
    "c=a+b\n",
    "c"
   ]
  },
  {
   "cell_type": "code",
   "execution_count": 14,
   "id": "f36de516",
   "metadata": {},
   "outputs": [
    {
     "data": {
      "text/plain": [
       "25"
      ]
     },
     "execution_count": 14,
     "metadata": {},
     "output_type": "execute_result"
    }
   ],
   "source": [
    "a, b, c = 10, 15, a+b\n",
    "c"
   ]
  },
  {
   "cell_type": "code",
   "execution_count": 16,
   "id": "19b3f954",
   "metadata": {},
   "outputs": [
    {
     "name": "stdout",
     "output_type": "stream",
     "text": [
      "hello python\n"
     ]
    },
    {
     "data": {
      "text/plain": [
       "'hello python'"
      ]
     },
     "execution_count": 16,
     "metadata": {},
     "output_type": "execute_result"
    }
   ],
   "source": [
    "str1 = \"hello python\"\n",
    "str2 = \"hello python\"\n",
    "print(str1)\n",
    "str2"
   ]
  },
  {
   "cell_type": "code",
   "execution_count": 17,
   "id": "5bb55022",
   "metadata": {},
   "outputs": [
    {
     "name": "stdout",
     "output_type": "stream",
     "text": [
      "He said, \"she's gone\".\n"
     ]
    }
   ],
   "source": [
    "print('He said, \"she\\'s gone\".')"
   ]
  },
  {
   "cell_type": "code",
   "execution_count": 19,
   "id": "43d1d0c4",
   "metadata": {},
   "outputs": [],
   "source": [
    "sentence = \"My name is C\""
   ]
  },
  {
   "cell_type": "code",
   "execution_count": 20,
   "id": "b655c98b",
   "metadata": {},
   "outputs": [
    {
     "data": {
      "text/plain": [
       "'a'"
      ]
     },
     "execution_count": 20,
     "metadata": {},
     "output_type": "execute_result"
    }
   ],
   "source": [
    "sentence[4]"
   ]
  },
  {
   "cell_type": "code",
   "execution_count": 26,
   "id": "89c8bf80",
   "metadata": {},
   "outputs": [
    {
     "data": {
      "text/plain": [
       "'My name'"
      ]
     },
     "execution_count": 26,
     "metadata": {},
     "output_type": "execute_result"
    }
   ],
   "source": [
    "sentence[:7]"
   ]
  },
  {
   "cell_type": "code",
   "execution_count": 25,
   "id": "762d6ac1",
   "metadata": {},
   "outputs": [
    {
     "data": {
      "text/plain": [
       "'is C'"
      ]
     },
     "execution_count": 25,
     "metadata": {},
     "output_type": "execute_result"
    }
   ],
   "source": [
    "sentence[-4:]"
   ]
  },
  {
   "cell_type": "markdown",
   "id": "8fd72cc6",
   "metadata": {},
   "source": [
    "20200809Fog"
   ]
  },
  {
   "cell_type": "code",
   "execution_count": 32,
   "id": "9f433e7b",
   "metadata": {},
   "outputs": [
    {
     "name": "stdout",
     "output_type": "stream",
     "text": [
      "2020\n",
      "08\n",
      "09\n",
      "Fog\n"
     ]
    }
   ],
   "source": [
    "weather_info = \"20200809Fog\"\n",
    "\n",
    "year = weather_info[0:4]\n",
    "month = weather_info[4:6]\n",
    "day = weather_info[6:8]\n",
    "weather = weather_info[8:]\n",
    "\n",
    "print(year)\n",
    "print(month)\n",
    "print(day)\n",
    "print(weather)"
   ]
  },
  {
   "cell_type": "code",
   "execution_count": null,
   "id": "aa99e0ef",
   "metadata": {},
   "outputs": [],
   "source": []
  },
  {
   "cell_type": "code",
   "execution_count": null,
   "id": "3326face",
   "metadata": {},
   "outputs": [],
   "source": []
  },
  {
   "cell_type": "code",
   "execution_count": null,
   "id": "673027b0",
   "metadata": {},
   "outputs": [],
   "source": []
  },
  {
   "cell_type": "code",
   "execution_count": null,
   "id": "be2949f4",
   "metadata": {},
   "outputs": [],
   "source": []
  }
 ],
 "metadata": {
  "language_info": {
   "codemirror_mode": {
    "name": "ipython",
    "version": 3
   },
   "file_extension": ".py",
   "mimetype": "text/x-python",
   "name": "python",
   "nbconvert_exporter": "python",
   "pygments_lexer": "ipython3",
   "version": "3.9.12"
  }
 },
 "nbformat": 4,
 "nbformat_minor": 5
}
