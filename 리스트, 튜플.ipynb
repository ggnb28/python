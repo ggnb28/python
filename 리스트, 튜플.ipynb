{
 "cells": [
  {
   "cell_type": "code",
   "execution_count": 8,
   "id": "5fff94e6",
   "metadata": {},
   "outputs": [
    {
     "data": {
      "text/plain": [
       "2"
      ]
     },
     "execution_count": 8,
     "metadata": {},
     "output_type": "execute_result"
    }
   ],
   "source": [
    "a = [1, 2, 3, 4]\n",
    "b = [\"my\", \"name\", \"is\", \"c\"]\n",
    "c = [1, \"my\"]\n",
    "d = [1, [2, \"is\"]]\n",
    "e = []\n",
    "d[1][0]"
   ]
  },
  {
   "cell_type": "code",
   "execution_count": 2,
   "id": "14d1a0e1",
   "metadata": {},
   "outputs": [
    {
     "data": {
      "text/plain": [
       "list"
      ]
     },
     "execution_count": 2,
     "metadata": {},
     "output_type": "execute_result"
    }
   ],
   "source": [
    "type(a)"
   ]
  },
  {
   "cell_type": "code",
   "execution_count": 9,
   "id": "b38805df",
   "metadata": {},
   "outputs": [
    {
     "data": {
      "text/plain": [
       "[7, 8, 9]"
      ]
     },
     "execution_count": 9,
     "metadata": {},
     "output_type": "execute_result"
    }
   ],
   "source": [
    "l = [7, 8, 9, 10]\n",
    "l[0:3]"
   ]
  },
  {
   "cell_type": "code",
   "execution_count": 6,
   "id": "4ce24825",
   "metadata": {},
   "outputs": [
    {
     "data": {
      "text/plain": [
       "7"
      ]
     },
     "execution_count": 6,
     "metadata": {},
     "output_type": "execute_result"
    }
   ],
   "source": [
    "[7, 8, 9, 10][0]"
   ]
  },
  {
   "cell_type": "code",
   "execution_count": 10,
   "id": "785bf577",
   "metadata": {},
   "outputs": [
    {
     "data": {
      "text/plain": [
       "('a', 'b', 'c')"
      ]
     },
     "execution_count": 10,
     "metadata": {},
     "output_type": "execute_result"
    }
   ],
   "source": [
    "a = ()\n",
    "b = (1,2,3,4)\n",
    "c = (\"a\", \"b\", \"c\")\n",
    "d = (1,2,\"a\")\n",
    "e= (1,2,[\"a\",\"b\"])\n",
    "f= (1,2,(\"a\",\"b\"))\n",
    "\n",
    "c[0:3]"
   ]
  },
  {
   "cell_type": "code",
   "execution_count": 11,
   "id": "3e223d3f",
   "metadata": {},
   "outputs": [
    {
     "data": {
      "text/plain": [
       "[1, 2, 3, 4, 5, 6, 7, 8]"
      ]
     },
     "execution_count": 11,
     "metadata": {},
     "output_type": "execute_result"
    }
   ],
   "source": [
    "a = [1,2,3,4]\n",
    "b = [5,6,7,8]\n",
    "a + b"
   ]
  },
  {
   "cell_type": "code",
   "execution_count": 12,
   "id": "9f8d030d",
   "metadata": {},
   "outputs": [
    {
     "data": {
      "text/plain": [
       "[1, 2, 3, 4, 5]"
      ]
     },
     "execution_count": 12,
     "metadata": {},
     "output_type": "execute_result"
    }
   ],
   "source": [
    "a.append(5)\n",
    "a"
   ]
  },
  {
   "cell_type": "code",
   "execution_count": 29,
   "id": "9da74f7d",
   "metadata": {},
   "outputs": [
    {
     "data": {
      "text/plain": [
       "[1, 2, 3, 4, 5]"
      ]
     },
     "execution_count": 29,
     "metadata": {},
     "output_type": "execute_result"
    }
   ],
   "source": [
    "a.insert(0, 1)\n",
    "a"
   ]
  },
  {
   "cell_type": "code",
   "execution_count": 28,
   "id": "55b1cfa6",
   "metadata": {},
   "outputs": [
    {
     "data": {
      "text/plain": [
       "[2, 3, 4, 5]"
      ]
     },
     "execution_count": 28,
     "metadata": {},
     "output_type": "execute_result"
    }
   ],
   "source": [
    "del a[-1]\n",
    "a"
   ]
  },
  {
   "cell_type": "code",
   "execution_count": 30,
   "id": "47d8ad58",
   "metadata": {},
   "outputs": [
    {
     "data": {
      "text/plain": [
       "[1, 2, 3, 4, 5]"
      ]
     },
     "execution_count": 30,
     "metadata": {},
     "output_type": "execute_result"
    }
   ],
   "source": [
    "a"
   ]
  },
  {
   "cell_type": "markdown",
   "id": "2aeafeb7",
   "metadata": {},
   "source": []
  },
  {
   "cell_type": "code",
   "execution_count": 31,
   "id": "624de090",
   "metadata": {},
   "outputs": [
    {
     "data": {
      "text/plain": [
       "[1, 2, 3, 5]"
      ]
     },
     "execution_count": 31,
     "metadata": {},
     "output_type": "execute_result"
    }
   ],
   "source": [
    "a.remove(4)\n",
    "a"
   ]
  },
  {
   "cell_type": "code",
   "execution_count": 32,
   "id": "efea4652",
   "metadata": {},
   "outputs": [
    {
     "data": {
      "text/plain": [
       "[1, 12, 2, 12, 3, 12, 4, 12, 5]"
      ]
     },
     "execution_count": 32,
     "metadata": {},
     "output_type": "execute_result"
    }
   ],
   "source": [
    "a = [1,12,2,12,3,12,4,12,5]\n",
    "a"
   ]
  },
  {
   "cell_type": "code",
   "execution_count": 33,
   "id": "2dfc8753",
   "metadata": {},
   "outputs": [
    {
     "data": {
      "text/plain": [
       "[1, 2, 12, 3, 12, 4, 12, 5]"
      ]
     },
     "execution_count": 33,
     "metadata": {},
     "output_type": "execute_result"
    }
   ],
   "source": [
    "a.remove(12)\n",
    "a"
   ]
  },
  {
   "cell_type": "code",
   "execution_count": 34,
   "id": "1540d369",
   "metadata": {},
   "outputs": [],
   "source": [
    "a[2] = 5"
   ]
  },
  {
   "cell_type": "code",
   "execution_count": 35,
   "id": "b2041602",
   "metadata": {},
   "outputs": [
    {
     "data": {
      "text/plain": [
       "[1, 2, 5, 3, 12, 4, 12, 5]"
      ]
     },
     "execution_count": 35,
     "metadata": {},
     "output_type": "execute_result"
    }
   ],
   "source": [
    "a"
   ]
  },
  {
   "cell_type": "code",
   "execution_count": 38,
   "id": "8d6123ae",
   "metadata": {},
   "outputs": [
    {
     "data": {
      "text/plain": [
       "[12, 12, 5, 5, 4, 3, 2, 1]"
      ]
     },
     "execution_count": 38,
     "metadata": {},
     "output_type": "execute_result"
    }
   ],
   "source": [
    "a.sort(reverse = True)\n",
    "a"
   ]
  },
  {
   "cell_type": "code",
   "execution_count": 39,
   "id": "f37a4c29",
   "metadata": {},
   "outputs": [
    {
     "data": {
      "text/plain": [
       "8"
      ]
     },
     "execution_count": 39,
     "metadata": {},
     "output_type": "execute_result"
    }
   ],
   "source": [
    "len(a)"
   ]
  },
  {
   "cell_type": "code",
   "execution_count": 41,
   "id": "d7a857ae",
   "metadata": {},
   "outputs": [
    {
     "data": {
      "text/plain": [
       "['TELL', 'ME']"
      ]
     },
     "execution_count": 41,
     "metadata": {},
     "output_type": "execute_result"
    }
   ],
   "source": [
    "s=\"tell me\"\n",
    "s.upper().split()"
   ]
  },
  {
   "cell_type": "code",
   "execution_count": 44,
   "id": "2d36d6a9",
   "metadata": {},
   "outputs": [
    {
     "data": {
      "text/plain": [
       "True"
      ]
     },
     "execution_count": 44,
     "metadata": {},
     "output_type": "execute_result"
    }
   ],
   "source": [
    "gs25 = [\"사이다\",\"콜라\",\"주스\"]\n",
    "\"테라\" not in gs25"
   ]
  },
  {
   "cell_type": "code",
   "execution_count": 46,
   "id": "8149a3d4",
   "metadata": {},
   "outputs": [
    {
     "data": {
      "text/plain": [
       "True"
      ]
     },
     "execution_count": 46,
     "metadata": {},
     "output_type": "execute_result"
    }
   ],
   "source": [
    "like=\"나는 콜라가 좋아\"\n",
    "\"콜라\" in like"
   ]
  },
  {
   "cell_type": "code",
   "execution_count": 47,
   "id": "5d9a2e7f",
   "metadata": {},
   "outputs": [],
   "source": [
    "import random"
   ]
  },
  {
   "cell_type": "code",
   "execution_count": 48,
   "id": "7b255311",
   "metadata": {},
   "outputs": [
    {
     "data": {
      "text/plain": [
       "0.6220095377269924"
      ]
     },
     "execution_count": 48,
     "metadata": {},
     "output_type": "execute_result"
    }
   ],
   "source": [
    "random.random()"
   ]
  },
  {
   "cell_type": "code",
   "execution_count": 52,
   "id": "96de1678",
   "metadata": {},
   "outputs": [
    {
     "data": {
      "text/plain": [
       "3"
      ]
     },
     "execution_count": 52,
     "metadata": {},
     "output_type": "execute_result"
    }
   ],
   "source": [
    "l = [1,2,3,4,5]\n",
    "random.choice(l)"
   ]
  },
  {
   "cell_type": "markdown",
   "id": "bdb18c30",
   "metadata": {},
   "source": [
    "### 가위바위보 게임 만들기\n",
    "\n",
    "- 플레이어에게 가위, 바위, 보 중 하나를 입력하게 합니다.\n",
    "- 플레이어가 말을 안듣고, 가바보중 어느것도 내지않았을때에는 잘못된 입력입니다를 출력하세요\n",
    "- 컴퓨터는 동일한 확률로 가위, 바위, 보 중 하나를 냅니다.\n",
    "- 플레이어의 입력과, 컴퓨터의 입력을 비교하여 승부를 결정합니다.\n",
    "- 출력문은 \"당신은 가위를 냈고, 컴퓨터는 보를 냈습니다. 당신이 이겼습니다.\"와 같은 형식으로 합니다."
   ]
  },
  {
   "cell_type": "code",
   "execution_count": 58,
   "id": "bda2e377",
   "metadata": {},
   "outputs": [
    {
     "name": "stdout",
     "output_type": "stream",
     "text": [
      "가위 바위 보! : 보\n",
      "잘못된 입력입니다.\n"
     ]
    }
   ],
   "source": [
    "possible_choice = [\"가위\",\"바위\",\"보\"]\n",
    "player_choice = input(\"가위,바위,보 중 하나를 선택해주세요. \")\n",
    "if player_choice not in possible_choice:\n",
    "    print(\"잘못된 입력입니다.\")\n",
    "else:\n",
    "    pass\n",
    "import random\n",
    "com_choice = random.choice(possible_choice)\n",
    "if (player_choice ==\"가위\" and computer_choice ==\"보\") or (player_choice ==\"가위\" and computer_choice ==\"보\")\n",
    "    \n",
    "\n",
    "\n",
    "\n"
   ]
  },
  {
   "cell_type": "code",
   "execution_count": 70,
   "id": "60fd00c0",
   "metadata": {},
   "outputs": [
    {
     "name": "stdout",
     "output_type": "stream",
     "text": [
      "가위,바위,보 중 하나를 선택해주세요. 보\n",
      "당신이 이겼습니다.\n"
     ]
    }
   ],
   "source": [
    "possible_choice = [\"가위\",\"바위\",\"보\"]\n",
    "player_choice = input(\"가위,바위,보 중 하나를 선택해주세요. \")\n",
    "if player_choice not in possible_choice:\n",
    "    print(\"잘못된 입력입니다.\")\n",
    "else:\n",
    "    pass\n",
    "import random\n",
    "com_choice = random.choice(possible_choice)\n",
    "if player_choice == com_choice:\n",
    "    print(\"비겼습니다.\")\n",
    "    \n",
    "elif player_choice == \"보\" and com_choice == \"가위\":\n",
    "    print(\"당신은 보를 냈고 컴퓨터는 가위를 냈습니다. 당신이 졌습니다.\")\n",
    "elif player_choice == \"가위\" and com_choice == \"바위\":\n",
    "    print(\"당신은 가위를 냈고 컴퓨터는 바위를 냈습니다. 당신이 졌습니다.\")\n",
    "elif player_choice == \"바위\" and com_choice == \"보\":\n",
    "    print(\"당신은 바위를 냈고 컴퓨터는 보를 냈습니다. 당신이 졌습니다.\")\n",
    "    \n",
    "else:\n",
    "    print(\"당신이 이겼습니다.\")"
   ]
  },
  {
   "cell_type": "code",
   "execution_count": null,
   "id": "1ed03dbb",
   "metadata": {},
   "outputs": [],
   "source": []
  },
  {
   "cell_type": "code",
   "execution_count": null,
   "id": "98665f2b",
   "metadata": {},
   "outputs": [],
   "source": []
  },
  {
   "cell_type": "code",
   "execution_count": null,
   "id": "8487d808",
   "metadata": {},
   "outputs": [],
   "source": []
  }
 ],
 "metadata": {
  "kernelspec": {
   "display_name": "Python 3 (ipykernel)",
   "language": "python",
   "name": "python3"
  },
  "language_info": {
   "codemirror_mode": {
    "name": "ipython",
    "version": 3
   },
   "file_extension": ".py",
   "mimetype": "text/x-python",
   "name": "python",
   "nbconvert_exporter": "python",
   "pygments_lexer": "ipython3",
   "version": "3.9.12"
  }
 },
 "nbformat": 4,
 "nbformat_minor": 5
}
