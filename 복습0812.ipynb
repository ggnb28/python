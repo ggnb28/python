{
 "cells": [
  {
   "cell_type": "markdown",
   "id": "076fa193",
   "metadata": {},
   "source": [
    "## 인덱싱과 슬라이싱"
   ]
  },
  {
   "cell_type": "code",
   "execution_count": 1,
   "id": "fd3d6d4f",
   "metadata": {},
   "outputs": [
    {
     "data": {
      "text/plain": [
       "'apple'"
      ]
     },
     "execution_count": 1,
     "metadata": {},
     "output_type": "execute_result"
    }
   ],
   "source": [
    "\"apple\""
   ]
  },
  {
   "cell_type": "code",
   "execution_count": 3,
   "id": "90bea64c",
   "metadata": {},
   "outputs": [
    {
     "data": {
      "text/plain": [
       "'a'"
      ]
     },
     "execution_count": 3,
     "metadata": {},
     "output_type": "execute_result"
    }
   ],
   "source": [
    "[\"apple\", \"banana\",\"melon\"][0]\n",
    "[\"apple\", \"banana\",\"melon\"][0][0]"
   ]
  },
  {
   "cell_type": "code",
   "execution_count": 10,
   "id": "2d43f3b8",
   "metadata": {},
   "outputs": [
    {
     "data": {
      "text/plain": [
       "'o'"
      ]
     },
     "execution_count": 10,
     "metadata": {},
     "output_type": "execute_result"
    }
   ],
   "source": [
    "fruit = [[\"mango\", \"grape\"], [\"apple\", \"banana\",[\"melon\",\"watermelon\"]]]\n",
    "[[\"mango\", \"grape\"], [\"apple\", \"banana\",[\"melon\",\"watermelon\"]]][1][2][0][3]"
   ]
  },
  {
   "cell_type": "code",
   "execution_count": 17,
   "id": "2835b618",
   "metadata": {},
   "outputs": [
    {
     "data": {
      "text/plain": [
       "'melon'"
      ]
     },
     "execution_count": 17,
     "metadata": {},
     "output_type": "execute_result"
    }
   ],
   "source": [
    "\"watermelon\"[-5:]"
   ]
  },
  {
   "cell_type": "code",
   "execution_count": 22,
   "id": "9f139bcf",
   "metadata": {},
   "outputs": [
    {
     "name": "stdout",
     "output_type": "stream",
     "text": [
      "시장에 가면 망고가 있다\n",
      "시장에 가면 망고가 있다\n"
     ]
    }
   ],
   "source": [
    "f1 = \"망고\"\n",
    "f2 = \"파\"\n",
    "f3 = \"멜\"\n",
    "\n",
    "print(\"시장에 가면 {}가 있다\".format(f1))\n",
    "print(f\"시장에 가면 {f1}가 있다\")"
   ]
  },
  {
   "cell_type": "code",
   "execution_count": 23,
   "id": "d32cab9c",
   "metadata": {},
   "outputs": [
    {
     "name": "stdout",
     "output_type": "stream",
     "text": [
      "there is a apple in market\n"
     ]
    }
   ],
   "source": [
    "fruit = [\"mango\", \"grape\",\"apple\", \"banana\",\"melon\",\"watermelon\"]\n",
    "print(\"there is a {} in market\".format(fruit[2]))"
   ]
  },
  {
   "cell_type": "code",
   "execution_count": 32,
   "id": "73d49413",
   "metadata": {},
   "outputs": [
    {
     "data": {
      "text/plain": [
       "'there is a grape in the market'"
      ]
     },
     "execution_count": 32,
     "metadata": {},
     "output_type": "execute_result"
    }
   ],
   "source": [
    "sentence = \"there is a mango in the market\"\n",
    "sentence.count(\"a\")\n",
    "sentence.find(\"a\")\n",
    "sentence.upper()\n",
    "sentence.split(\"e\")\n",
    "sentence.replace(\"mango\",\"grape\")\n",
    "sentence.replace(fruit[0],fruit[1])\n"
   ]
  },
  {
   "cell_type": "code",
   "execution_count": 39,
   "id": "b6d5cb72",
   "metadata": {},
   "outputs": [
    {
     "data": {
      "text/plain": [
       "14"
      ]
     },
     "execution_count": 39,
     "metadata": {},
     "output_type": "execute_result"
    }
   ],
   "source": [
    "num= 7\n",
    "num = num + 7\n",
    "num"
   ]
  },
  {
   "cell_type": "code",
   "execution_count": 40,
   "id": "f245c2df",
   "metadata": {},
   "outputs": [
    {
     "data": {
      "text/plain": [
       "21"
      ]
     },
     "execution_count": 40,
     "metadata": {},
     "output_type": "execute_result"
    }
   ],
   "source": [
    "num+=7\n",
    "num"
   ]
  },
  {
   "cell_type": "code",
   "execution_count": 42,
   "id": "ad79b749",
   "metadata": {},
   "outputs": [
    {
     "data": {
      "text/plain": [
       "'안녕안녕안녕안녕'"
      ]
     },
     "execution_count": 42,
     "metadata": {},
     "output_type": "execute_result"
    }
   ],
   "source": [
    "a = \"안녕\"\n",
    "b = \"하세요\"\n",
    "a*4"
   ]
  },
  {
   "cell_type": "markdown",
   "id": "e55bca5c",
   "metadata": {},
   "source": [
    "### 다음 중 결과 값이 다른 하나는?\n",
    "1. 5 + 6\n",
    "2. int(5) + int(6)\n",
    "3. int (5 + 6)\n",
    "4. int(\"5\") + int(\"6\")\n",
    "5. int (\"5\" + \"6\") V"
   ]
  },
  {
   "cell_type": "code",
   "execution_count": null,
   "id": "f3d13e8e",
   "metadata": {},
   "outputs": [],
   "source": [
    "len()"
   ]
  },
  {
   "cell_type": "markdown",
   "id": "6dc2a754",
   "metadata": {},
   "source": [
    "## 조건문"
   ]
  },
  {
   "cell_type": "code",
   "execution_count": 44,
   "id": "01f576c7",
   "metadata": {},
   "outputs": [
    {
     "data": {
      "text/plain": [
       "True"
      ]
     },
     "execution_count": 44,
     "metadata": {},
     "output_type": "execute_result"
    }
   ],
   "source": [
    "\"m\" in \"mango\""
   ]
  },
  {
   "cell_type": "code",
   "execution_count": null,
   "id": "26bdfe39",
   "metadata": {},
   "outputs": [],
   "source": []
  },
  {
   "cell_type": "code",
   "execution_count": 6,
   "id": "3bfb1181",
   "metadata": {},
   "outputs": [],
   "source": [
    "lyrics = \"\"\"'\\n너도 날 좋\n",
    "아할 줄은 몰랐어\\n어쩌면 좋아 너무나\n",
    "좋아\\n꿈만 같아서 나 내 자신을 자꾸 꼬집어\n",
    "봐\\n너무나 좋아 니가 날 혹시 안 좋아할까 봐\\n혼자 \n",
    "얼마나 애태운 지 몰라\\n그런데 너도 날 사랑한다니\\n어머\n",
    "나 다시 한 번 말해봐\\n\\nTell me, tell me, tell tell tell\n",
    "\n",
    "\n",
    "tell tell tell me\\n나를 사랑한다고 날 기다려왔다고\\nTell me\n",
    ", tell me, tell tell tell tell\n",
    "tell tell me\\n내가 필요하다 \n",
    "말해 말해줘요\\nTell me tell me, tell tell tell tell tell te\n",
    "ll me\\n자꾸만 듣고 싶어 계속\n",
    "내게 말해줘\\nTell me, tell me, t\n",
    "ell tell tell tell tell tell me\\n꿈이 아니라고 말해 말해줘요\n",
    "\\n\\n어쩜 내 가슴이 이렇게 뛰니\\n가슴이 정말 터질 것 같아 니\n",
    "가 날 볼 때면\\n전기에 감전된 사람처\n",
    "럼 전기가 올라\\n\\n얼마나 \n",
    "오래 기다린 지 몰라\\n얼마나 오래 꿈 꿨는지 몰라\\n그런데 너도 \n",
    "날 사랑한다니\\n어머나 다시 한 번 말해봐\\n\\nTell me, tell me, \n",
    "tell tell tell tell tell tell me\\n나를 사랑한다고 날 기다려왔\n",
    "다고\\nTell me, tell me, tell tell tell tell\n",
    "tell tell me\\n내가 \n",
    "필요하다 말해 말해줘요\\nTell me tell me, tell tell tell tell tell\n",
    "tell me\\n자꾸만 듣고 싶어 계속 내게 말해줘\\nTell me, tell me, \n",
    "tell tell tell tell tell tell me\\n꿈\n",
    "이 아니라고 말해 말해줘요\\n\n",
    "\\n♬\\n\\nTell me, tell me, tell me you want me\\nwant me, want me\n",
    "too. Tell me, tell me\\ntell me you love me too, love me too.\\n\\\n",
    "nHit me one time baby 다시 한번\\nO\n",
    "kay 방금한 건 알지만 또 한번\n",
    "\\n\n",
    "예 계속 말해줘 들어도 들어도 듣고 싶어\\n어쩜 이런 일이 꿈인가 싶\n",
    "어\\n어머나 좋아서 어쩌나 Baby baby\\n\\nTell me, tell me, tell tell\n",
    "tell tell tell tell me\\n나를 사랑한다고 날 기다려왔다고\\nTell me, \n",
    "tell me, tell tell tell tell tell tell me\\n내가 필요하다 말해 말해\n",
    "줘요\\nTell me tell me, tell t\n",
    "1ell tell tell tell tell me\\n자꾸만\n",
    "듣고 싶어 계속 내게 말해줘\\nTell me, tell me, tell tell tell\n",
    "tell tell tell me\\n꿈이 아니라고 말해 말해줘요\\nTell me,\n",
    "tell me, tell tell tell tell tell tell me\\n'\"\"\"\n"
   ]
  },
  {
   "cell_type": "code",
   "execution_count": 9,
   "id": "f22ffd45",
   "metadata": {
    "scrolled": true
   },
   "outputs": [
    {
     "data": {
      "text/plain": [
       "\"' 너도 날 좋 아할 줄은 몰랐어 어쩌면 좋아 너무나 좋아 꿈만 같아서 나 내 자신을 자꾸 꼬집어 봐 너무나 좋아 니가 날 혹시 안 좋아할까 봐 혼자  얼마나 애태운 지 몰라 그런데 너도 날 사랑한다니 어머 나 다시 한 번 말해봐  , , tell tell tell   tell tell  나를 사랑한다고 날 기다려왔다고  , , tell tell tell tell tell  내가 필요하다  말해 말해줘요  , tell tell tell tell tell te ll me 자꾸만 듣고 싶어 계속 내게 말해줘 , , t ell tell tell tell tell  꿈이 아니라고 말해 말해줘요   어쩜 내 가슴이 이렇게 뛰니 가슴이 정말 터질 것 같아 니 가 날 볼 때면 전기에 감전된 사람처 럼 전기가 올라  얼마나  오래 기다린 지 몰라 얼마나 오래 꿈 꿨는지 몰라 그런데 너도  날 사랑한다니 어머나 다시 한 번 말해봐  , ,  tell tell tell tell tell  나를 사랑한다고 날 기다려왔 다고 , , tell tell tell tell tell  내가  필요하다 말해 말해줘요  , tell tell tell tell tell  자꾸만 듣고 싶어 계속 내게 말해줘 , ,  tell tell tell tell tell  꿈 이 아니라고 말해 말해줘요   ♬  , ,  you want me want me, want me too. ,   you love me too, love me too. nhit me one time baby 다시 한번 o kay 방금한 건 알지만 또 한번   예 계속 말해줘 들어도 들어도 듣고 싶어 어쩜 이런 일이 꿈인가 싶 어 어머나 좋아서 어쩌나 baby baby  , , tell tell tell tell tell  나를 사랑한다고 날 기다려왔다고 ,  , tell tell tell tell tell  내가 필요하다 말해 말해 줘요  , tell t 1ell tell tell tell  자꾸만 듣고 싶어 계속 내게 말해줘 , , tell tell tell tell tell  꿈이 아니라고 말해 말해줘요 , , tell tell tell tell tell  '\""
      ]
     },
     "execution_count": 9,
     "metadata": {},
     "output_type": "execute_result"
    }
   ],
   "source": [
    "lyrics = lyrics.replace(\"\\n\",\" \")\n",
    "lyrics =lyrics.lower()\n",
    "lyrics = lyrics.replace(\"tell me\",\"\")\n",
    "\n",
    "lyrics"
   ]
  },
  {
   "cell_type": "code",
   "execution_count": 17,
   "id": "2a364642",
   "metadata": {},
   "outputs": [],
   "source": [
    "lyrics = \"\"\"\\n너도 날 좋\n",
    "아할 줄은 몰랐어\\n어쩌면 좋아 너무나\n",
    "좋아\\n꿈만 같아서 나 내 자신을 자꾸 꼬집어\n",
    "봐\\n너무나 좋아 니가 날 혹시 안 좋아할까 봐\\n혼자 \n",
    "얼마나 애태운 지 몰라\\n그런데 너도 날 사랑한다니\\n어머\n",
    "나 다시 한 번 말해봐\\n\\nTell me, tell me, tell tell tell\n",
    "\n",
    "\n",
    "tell tell tell me\\n나를 사랑한다고 날 기다려왔다고\\nTell me\n",
    ", tell me, tell tell tell tell\n",
    "tell tell me\\n내가 필요하다 \n",
    "말해 말해줘요\\nTell me tell me, tell tell tell tell tell te\n",
    "ll me\\n자꾸만 듣고 싶어 계속\n",
    "내게 말해줘\\nTell me, tell me, t\n",
    "ell tell tell tell tell tell me\\n꿈이 아니라고 말해 말해줘요\n",
    "\\n\\n어쩜 내 가슴이 이렇게 뛰니\\n가슴이 정말 터질 것 같아 니\n",
    "가 날 볼 때면\\n전기에 감전된 사람처\n",
    "럼 전기가 올라\\n\\n얼마나 \n",
    "오래 기다린 지 몰라\\n얼마나 오래 꿈 꿨는지 몰라\\n그런데 너도 \n",
    "날 사랑한다니\\n어머나 다시 한 번 말해봐\\n\\nTell me, tell me, \n",
    "tell tell tell tell tell tell me\\n나를 사랑한다고 날 기다려왔\n",
    "다고\\nTell me, tell me, tell tell tell tell\n",
    "tell tell me\\n내가 \n",
    "필요하다 말해 말해줘요\\nTell me tell me, tell tell tell tell tell\n",
    "tell me\\n자꾸만 듣고 싶어 계속 내게 말해줘\\nTell me, tell me, \n",
    "tell tell tell tell tell tell me\\n꿈\n",
    "이 아니라고 말해 말해줘요\\n\n",
    "\\n♬\\n\\nTell me, tell me, tell me you want me\\nwant me, want me\n",
    "too. Tell me, tell me\\ntell me you love me too, love me too.\\n\\\n",
    "nHit me one time baby 다시 한번\\nO\n",
    "kay 방금한 건 알지만 또 한번\n",
    "\\n\n",
    "예 계속 말해줘 들어도 들어도 듣고 싶어\\n어쩜 이런 일이 꿈인가 싶\n",
    "어\\n어머나 좋아서 어쩌나 Baby baby\\n\\nTell me, tell me, tell tell\n",
    "tell tell tell tell me\\n나를 사랑한다고 날 기다려왔다고\\nTell me, \n",
    "tell me, tell tell tell tell tell tell me\\n내가 필요하다 말해 말해\n",
    "줘요\\nTell me tell me, tell t\n",
    "1ell tell tell tell tell me\\n자꾸만\n",
    "듣고 싶어 계속 내게 말해줘\\nTell me, tell me, tell tell tell\n",
    "tell tell tell me\\n꿈이 아니라고 말해 말해줘요\\nTell me,\n",
    "tell me, tell tell tell tell tell tell me\\n\"\"\""
   ]
  },
  {
   "cell_type": "code",
   "execution_count": 18,
   "id": "ae9406b8",
   "metadata": {},
   "outputs": [
    {
     "data": {
      "text/plain": [
       "' 너도 날 좋 아할 줄은 몰랐어 어쩌면 좋아 너무나 좋아 꿈만 같아서 나 내 자신을 자꾸 꼬집어 봐 너무나 좋아 니가 날 혹시 안 좋아할까 봐 혼자  얼마나 애태운 지 몰라 그런데 너도 날 사랑한다니 어머 나 다시 한 번 말해봐  @@@@@@@@, @@@@@@@@, tell tell tell   tell tell @@@@@@@@ 나를 사랑한다고 날 기다려왔다고 @@@@@@@@ , @@@@@@@@, tell tell tell tell tell @@@@@@@@ 내가 필요하다  말해 말해줘요 @@@@@@@@ @@@@@@@@, tell tell tell tell tell te ll me 자꾸만 듣고 싶어 계속 내게 말해줘 @@@@@@@@, @@@@@@@@, t ell tell tell tell tell @@@@@@@@ 꿈이 아니라고 말해 말해줘요   어쩜 내 가슴이 이렇게 뛰니 가슴이 정말 터질 것 같아 니 가 날 볼 때면 전기에 감전된 사람처 럼 전기가 올라  얼마나  오래 기다린 지 몰라 얼마나 오래 꿈 꿨는지 몰라 그런데 너도  날 사랑한다니 어머나 다시 한 번 말해봐  @@@@@@@@, @@@@@@@@,  tell tell tell tell tell @@@@@@@@ 나를 사랑한다고 날 기다려왔 다고 @@@@@@@@, @@@@@@@@, tell tell tell tell tell @@@@@@@@ 내가  필요하다 말해 말해줘요 @@@@@@@@ @@@@@@@@, tell tell tell tell tell @@@@@@@@ 자꾸만 듣고 싶어 계속 내게 말해줘 @@@@@@@@, @@@@@@@@,  tell tell tell tell tell @@@@@@@@ 꿈 이 아니라고 말해 말해줘요   ♬  @@@@@@@@, @@@@@@@@, @@@@@@@@ you want me want me, want me too. @@@@@@@@, @@@@@@@@ @@@@@@@@ you love me too, love me too. nhit me one time baby 다시 한번 o kay 방금한 건 알지만 또 한번   예 계속 말해줘 들어도 들어도 듣고 싶어 어쩜 이런 일이 꿈인가 싶 어 어머나 좋아서 어쩌나 baby baby  @@@@@@@@, @@@@@@@@, tell tell tell tell tell @@@@@@@@ 나를 사랑한다고 날 기다려왔다고 @@@@@@@@,  @@@@@@@@, tell tell tell tell tell @@@@@@@@ 내가 필요하다 말해 말해 줘요 @@@@@@@@ @@@@@@@@, tell t 1ell tell tell tell @@@@@@@@ 자꾸만 듣고 싶어 계속 내게 말해줘 @@@@@@@@, @@@@@@@@, tell tell tell tell tell @@@@@@@@ 꿈이 아니라고 말해 말해줘요 @@@@@@@@, @@@@@@@@, tell tell tell tell tell @@@@@@@@ '"
      ]
     },
     "execution_count": 18,
     "metadata": {},
     "output_type": "execute_result"
    }
   ],
   "source": [
    "# 가리는 경우\n",
    "lyrics = lyrics.replace(\"\\n\",\" \")\n",
    "lyrics =lyrics.lower()\n",
    "lyrics = lyrics.replace(\"tell me\",\"@@@@@@@@\")\n",
    "\n",
    "lyrics"
   ]
  },
  {
   "cell_type": "code",
   "execution_count": 19,
   "id": "6e2f7235",
   "metadata": {},
   "outputs": [],
   "source": [
    "lyrics = lyrics.replace(\"  \",\" \")"
   ]
  },
  {
   "cell_type": "code",
   "execution_count": 20,
   "id": "b198b8fb",
   "metadata": {},
   "outputs": [
    {
     "data": {
      "text/plain": [
       "'너도 날 좋 아할 줄은 몰랐어 어쩌면 좋아 너무나 좋아 꿈만 같아서 나 내 자신을 자꾸 꼬집어 봐 너무나 좋아 니가 날 혹시 안 좋아할까 봐 혼자 얼마나 애태운 지 몰라 그런데 너도 날 사랑한다니 어머 나 다시 한 번 말해봐 @@@@@@@@, @@@@@@@@, tell tell tell  tell tell @@@@@@@@ 나를 사랑한다고 날 기다려왔다고 @@@@@@@@ , @@@@@@@@, tell tell tell tell tell @@@@@@@@ 내가 필요하다 말해 말해줘요 @@@@@@@@ @@@@@@@@, tell tell tell tell tell te ll me 자꾸만 듣고 싶어 계속 내게 말해줘 @@@@@@@@, @@@@@@@@, t ell tell tell tell tell @@@@@@@@ 꿈이 아니라고 말해 말해줘요  어쩜 내 가슴이 이렇게 뛰니 가슴이 정말 터질 것 같아 니 가 날 볼 때면 전기에 감전된 사람처 럼 전기가 올라 얼마나 오래 기다린 지 몰라 얼마나 오래 꿈 꿨는지 몰라 그런데 너도 날 사랑한다니 어머나 다시 한 번 말해봐 @@@@@@@@, @@@@@@@@, tell tell tell tell tell @@@@@@@@ 나를 사랑한다고 날 기다려왔 다고 @@@@@@@@, @@@@@@@@, tell tell tell tell tell @@@@@@@@ 내가 필요하다 말해 말해줘요 @@@@@@@@ @@@@@@@@, tell tell tell tell tell @@@@@@@@ 자꾸만 듣고 싶어 계속 내게 말해줘 @@@@@@@@, @@@@@@@@, tell tell tell tell tell @@@@@@@@ 꿈 이 아니라고 말해 말해줘요  ♬ @@@@@@@@, @@@@@@@@, @@@@@@@@ you want me want me, want me too. @@@@@@@@, @@@@@@@@ @@@@@@@@ you love me too, love me too. nhit me one time baby 다시 한번 o kay 방금한 건 알지만 또 한번  예 계속 말해줘 들어도 들어도 듣고 싶어 어쩜 이런 일이 꿈인가 싶 어 어머나 좋아서 어쩌나 baby baby @@@@@@@@, @@@@@@@@, tell tell tell tell tell @@@@@@@@ 나를 사랑한다고 날 기다려왔다고 @@@@@@@@, @@@@@@@@, tell tell tell tell tell @@@@@@@@ 내가 필요하다 말해 말해 줘요 @@@@@@@@ @@@@@@@@, tell t 1ell tell tell tell @@@@@@@@ 자꾸만 듣고 싶어 계속 내게 말해줘 @@@@@@@@, @@@@@@@@, tell tell tell tell tell @@@@@@@@ 꿈이 아니라고 말해 말해줘요 @@@@@@@@, @@@@@@@@, tell tell tell tell tell @@@@@@@@'"
      ]
     },
     "execution_count": 20,
     "metadata": {},
     "output_type": "execute_result"
    }
   ],
   "source": [
    "# lyrics.strip()\n",
    "lyrics[1:-1]"
   ]
  },
  {
   "cell_type": "code",
   "execution_count": 50,
   "id": "0120d384",
   "metadata": {},
   "outputs": [
    {
     "name": "stdout",
     "output_type": "stream",
     "text": [
      "yes\n"
     ]
    }
   ],
   "source": [
    "if \"tell me\" in lyrics:\n",
    "    print(\"yes\")\n",
    "else:\n",
    "#     replace.lyrics(\"tell me\",\"\")\n",
    "#     print(lyrics)\n",
    "    "
   ]
  },
  {
   "cell_type": "markdown",
   "id": "eeb48f91",
   "metadata": {},
   "source": [
    "### 리스트, 튜플"
   ]
  },
  {
   "cell_type": "markdown",
   "id": "5a5c2ff1",
   "metadata": {},
   "source": [
    "#### 데이터 추가\n",
    "1. 문자열:\n",
    "2. 리스트:"
   ]
  },
  {
   "cell_type": "code",
   "execution_count": 21,
   "id": "50f0b7c6",
   "metadata": {},
   "outputs": [
    {
     "data": {
      "text/plain": [
       "'짜장면, 짬뽕, 탕수육, 군만두'"
      ]
     },
     "execution_count": 21,
     "metadata": {},
     "output_type": "execute_result"
    }
   ],
   "source": [
    "menu = \"짜장면, 짬뽕, 탕수육\"\n",
    "menu = menu + \", 군만두\"\n",
    "menu"
   ]
  },
  {
   "cell_type": "code",
   "execution_count": 32,
   "id": "bc4d81b7",
   "metadata": {},
   "outputs": [
    {
     "data": {
      "text/plain": [
       "['짜장면', '짬뽕', '탕수육', '군만두']"
      ]
     },
     "execution_count": 32,
     "metadata": {},
     "output_type": "execute_result"
    }
   ],
   "source": [
    "menu = [\"짜장면\", \"짬뽕\", \"탕수육\"]\n",
    "menu.append(\"군만두\")\n",
    "menu"
   ]
  },
  {
   "cell_type": "code",
   "execution_count": 33,
   "id": "91ce8b19",
   "metadata": {},
   "outputs": [
    {
     "data": {
      "text/plain": [
       "['짜장면', '팔보채', '짬뽕', '탕수육', '군만두']"
      ]
     },
     "execution_count": 33,
     "metadata": {},
     "output_type": "execute_result"
    }
   ],
   "source": [
    "menu.insert(1, \"팔보채\")\n",
    "menu"
   ]
  },
  {
   "cell_type": "markdown",
   "id": "f376815a",
   "metadata": {},
   "source": [
    "#### 데이터 제거\n",
    "1. 문자열: replace\n",
    "2. 리스트: del, remove, pop"
   ]
  },
  {
   "cell_type": "code",
   "execution_count": 31,
   "id": "682fe592",
   "metadata": {},
   "outputs": [
    {
     "data": {
      "text/plain": [
       "'짜장면, 짬뽕, 탕수육 '"
      ]
     },
     "execution_count": 31,
     "metadata": {},
     "output_type": "execute_result"
    }
   ],
   "source": [
    "menu = \"짜장면, 짬뽕, 탕수육, 군만두\"\n",
    "menu = menu.replace(\", 군만두\",\" \")\n",
    "menu"
   ]
  },
  {
   "cell_type": "code",
   "execution_count": 37,
   "id": "95326eed",
   "metadata": {},
   "outputs": [
    {
     "data": {
      "text/plain": [
       "['짜장면', '팔보채', '짬뽕', '탕수육']"
      ]
     },
     "execution_count": 37,
     "metadata": {},
     "output_type": "execute_result"
    }
   ],
   "source": [
    "menu = ['짜장면', '팔보채', '짬뽕', '탕수육', '군만두']\n",
    "menu.pop()\n",
    "menu"
   ]
  },
  {
   "cell_type": "markdown",
   "id": "ba5f4011",
   "metadata": {},
   "source": [
    "#### 데이터 교체\n",
    "1. 문자열:replace\n",
    "2. 리스트: 딱히 함수 x"
   ]
  },
  {
   "cell_type": "code",
   "execution_count": 39,
   "id": "17e57979",
   "metadata": {},
   "outputs": [
    {
     "data": {
      "text/plain": [
       "['짜장면', '유산슬', '짬뽕', '탕수육', '군만두']"
      ]
     },
     "execution_count": 39,
     "metadata": {},
     "output_type": "execute_result"
    }
   ],
   "source": [
    "menu = ['짜장면', '팔보채', '짬뽕', '탕수육', '군만두']\n",
    "menu[1] = \"유산슬\"\n",
    "menu"
   ]
  },
  {
   "cell_type": "code",
   "execution_count": 43,
   "id": "0eab7b04",
   "metadata": {},
   "outputs": [
    {
     "data": {
      "text/plain": [
       "[['mango', 'grape'], ['pineapple', 'banana', ['melon', 'watermelon']]]"
      ]
     },
     "execution_count": 43,
     "metadata": {},
     "output_type": "execute_result"
    }
   ],
   "source": [
    "fruit = [[\"mango\", \"grape\"], [\"apple\", \"banana\",[\"melon\",\"watermelon\"]]]\n",
    "fruit[1][0] = \"pineapple\"\n",
    "fruit\n",
    "# fruit[1][0].replace(\"a\", \"pinea\")\n",
    "# fruit"
   ]
  },
  {
   "cell_type": "markdown",
   "id": "705668b3",
   "metadata": {},
   "source": [
    "### 반복문"
   ]
  },
  {
   "cell_type": "code",
   "execution_count": null,
   "id": "eeb9b6c5",
   "metadata": {},
   "outputs": [],
   "source": [
    "while 명제:\n",
    "    명제가 참인 한 실행되는 코드\n"
   ]
  },
  {
   "cell_type": "markdown",
   "id": "fd07f6ed",
   "metadata": {},
   "source": [
    "#### 무한루프를 피하는 방법\n",
    "1. 특정조건에서 명제가 거짓이 되도록 설계\n",
    "2. break 설계"
   ]
  },
  {
   "cell_type": "code",
   "execution_count": 44,
   "id": "27bb33be",
   "metadata": {},
   "outputs": [
    {
     "name": "stdout",
     "output_type": "stream",
     "text": [
      "0\n",
      "1\n",
      "2\n"
     ]
    }
   ],
   "source": [
    "n=0\n",
    "while n<3:\n",
    "    print(n)\n",
    "    n=n+1"
   ]
  },
  {
   "cell_type": "code",
   "execution_count": 47,
   "id": "e4566ec1",
   "metadata": {},
   "outputs": [
    {
     "name": "stdout",
     "output_type": "stream",
     "text": [
      "0\n",
      "1\n",
      "2\n"
     ]
    }
   ],
   "source": [
    "n=0\n",
    "while n<3:\n",
    "    print(n)\n",
    "    n=n+1\n",
    "    if n >=3:\n",
    "        break\n",
    "    else:\n",
    "        pass"
   ]
  },
  {
   "cell_type": "markdown",
   "id": "29db5bb6",
   "metadata": {},
   "source": [
    "### 1000이 넘는 최초의 43의 배수를 찾고 싶음"
   ]
  },
  {
   "cell_type": "code",
   "execution_count": 10,
   "id": "41c938cc",
   "metadata": {},
   "outputs": [
    {
     "name": "stdout",
     "output_type": "stream",
     "text": [
      "1032\n"
     ]
    }
   ],
   "source": [
    "n = 1000\n",
    "while n%43 != 0:\n",
    "    n= n +1\n",
    "print(n)"
   ]
  },
  {
   "cell_type": "code",
   "execution_count": 7,
   "id": "6166db1e",
   "metadata": {},
   "outputs": [
    {
     "name": "stdout",
     "output_type": "stream",
     "text": [
      "1032\n"
     ]
    }
   ],
   "source": [
    "n = 0\n",
    "while n * 43 < 1000:\n",
    "    n = n+1\n",
    "print(n*43)"
   ]
  },
  {
   "cell_type": "code",
   "execution_count": 8,
   "id": "97fdc0da",
   "metadata": {},
   "outputs": [
    {
     "name": "stdout",
     "output_type": "stream",
     "text": [
      "1032\n"
     ]
    }
   ],
   "source": [
    "n =1000\n",
    "while True:\n",
    "    n=n+1\n",
    "    if n%43 ==0:\n",
    "        print(n)\n",
    "        break\n",
    "    else:\n",
    "        pass"
   ]
  },
  {
   "cell_type": "code",
   "execution_count": 9,
   "id": "e7f08456",
   "metadata": {},
   "outputs": [
    {
     "name": "stdout",
     "output_type": "stream",
     "text": [
      "1032\n"
     ]
    }
   ],
   "source": [
    "n=0\n",
    "while True:\n",
    "    n=n+1\n",
    "    if n*43 >= 1000:\n",
    "        print(43*n)\n",
    "        break\n",
    "    else:\n",
    "        pass"
   ]
  },
  {
   "cell_type": "markdown",
   "id": "b22bf634",
   "metadata": {},
   "source": [
    "#### 10000이 넘는 수중에서, 가장 작은 43과 67의 공배수를 구해주세요"
   ]
  },
  {
   "cell_type": "code",
   "execution_count": 21,
   "id": "c9c57af8",
   "metadata": {},
   "outputs": [
    {
     "name": "stdout",
     "output_type": "stream",
     "text": [
      "11524\n"
     ]
    }
   ],
   "source": [
    "n=10000\n",
    "while n%(67*43) != 0:\n",
    "    n+=1\n",
    "print(n)"
   ]
  },
  {
   "cell_type": "code",
   "execution_count": 13,
   "id": "f492d7ef",
   "metadata": {},
   "outputs": [
    {
     "name": "stdout",
     "output_type": "stream",
     "text": [
      "1032\n"
     ]
    }
   ],
   "source": [
    "n=1\n",
    "a\n",
    "\n",
    "while (n%43!=0)or(n<1000):\n",
    "    n+=1\n",
    "    \n",
    "    if (n%43==0)and(n>1000):\n",
    "        print(n)"
   ]
  },
  {
   "cell_type": "code",
   "execution_count": 22,
   "id": "485a3d23",
   "metadata": {},
   "outputs": [
    {
     "name": "stdout",
     "output_type": "stream",
     "text": [
      "11524\n"
     ]
    }
   ],
   "source": [
    "n=10000\n",
    "while (n%43 != 0) or (n%67 != 0):\n",
    "    n+=1\n",
    "print(n)"
   ]
  },
  {
   "cell_type": "code",
   "execution_count": 24,
   "id": "b0be6887",
   "metadata": {},
   "outputs": [
    {
     "name": "stdout",
     "output_type": "stream",
     "text": [
      "11524\n"
     ]
    }
   ],
   "source": [
    "n=10000\n",
    "while True:\n",
    "    n+=1\n",
    "    if (n%43==0) and (n%67==0):\n",
    "        print(n)\n",
    "        break\n",
    "    else:\n",
    "        pass"
   ]
  },
  {
   "cell_type": "code",
   "execution_count": null,
   "id": "60050cd9",
   "metadata": {},
   "outputs": [],
   "source": [
    "for 변수 in 순서가있는자료횽:\n",
    "    코드"
   ]
  },
  {
   "cell_type": "code",
   "execution_count": 25,
   "id": "28e10e7d",
   "metadata": {},
   "outputs": [
    {
     "name": "stdout",
     "output_type": "stream",
     "text": [
      "1\n",
      "4\n",
      "9\n",
      "16\n"
     ]
    }
   ],
   "source": [
    "for i in [1,2,3,4]:\n",
    "    print(i**2)"
   ]
  },
  {
   "cell_type": "markdown",
   "id": "f6529f66",
   "metadata": {},
   "source": [
    "### 3단 뽑기\n",
    "- 3 x 1 = 3\n",
    "- 3 x 2 = 6\n",
    "- ...\n",
    "- 3 x 9 = 27\n"
   ]
  },
  {
   "cell_type": "code",
   "execution_count": 28,
   "id": "375f15e4",
   "metadata": {},
   "outputs": [
    {
     "name": "stdout",
     "output_type": "stream",
     "text": [
      "3 x 1 = 3\n",
      "3 x 2 = 6\n",
      "3 x 3 = 9\n",
      "3 x 4 = 12\n",
      "3 x 5 = 15\n",
      "3 x 6 = 18\n",
      "3 x 7 = 21\n",
      "3 x 8 = 24\n",
      "3 x 9 = 27\n"
     ]
    }
   ],
   "source": [
    "for i in range(1,10):\n",
    "    print(f\"3 x {i} = {3*i}\")"
   ]
  },
  {
   "cell_type": "code",
   "execution_count": 33,
   "id": "416c2ceb",
   "metadata": {},
   "outputs": [
    {
     "name": "stdout",
     "output_type": "stream",
     "text": [
      "3\n"
     ]
    }
   ],
   "source": [
    "n=0\n",
    "a=[1,2,3,4,5,6,7]\n",
    "b=[2,4,3,6,5,3,7]\n",
    "\n",
    "for i in range(7):\n",
    "    if a[i]==b[i]:\n",
    "        n+=1\n",
    "    else:\n",
    "        pass\n",
    "print(n)"
   ]
  },
  {
   "cell_type": "code",
   "execution_count": 35,
   "id": "00fb74a5",
   "metadata": {},
   "outputs": [
    {
     "name": "stdout",
     "output_type": "stream",
     "text": [
      "3\n"
     ]
    }
   ],
   "source": [
    "n=0\n",
    "a=[1,2,3,4,5,6,7]\n",
    "b=[2,4,3,6,5,3,7]\n",
    "\n",
    "for w, i in enumerate(a):\n",
    "    if i == b[w]:\n",
    "        n+=1\n",
    "    else:\n",
    "        pass\n",
    "print(n)"
   ]
  },
  {
   "cell_type": "code",
   "execution_count": 53,
   "id": "ae9bbe8a",
   "metadata": {},
   "outputs": [
    {
     "name": "stdout",
     "output_type": "stream",
     "text": [
      "\n",
      "1단 시작!\n",
      "1 x 1 = 1\n",
      "1 x 2 = 2\n",
      "1 x 3 = 3\n",
      "1 x 4 = 4\n",
      "1 x 5 = 5\n",
      "1 x 6 = 6\n",
      "1 x 7 = 7\n",
      "1 x 8 = 8\n",
      "1 x 9 = 9\n",
      "\n",
      "2단 시작!\n",
      "2 x 1 = 2\n",
      "2 x 2 = 4\n",
      "2 x 3 = 6\n",
      "2 x 4 = 8\n",
      "2 x 5 = 10\n",
      "2 x 6 = 12\n",
      "2 x 7 = 14\n",
      "2 x 8 = 16\n",
      "2 x 9 = 18\n",
      "\n",
      "3단 시작!\n",
      "3 x 1 = 3\n",
      "3 x 2 = 6\n",
      "3 x 3 = 9\n",
      "3 x 4 = 12\n",
      "3 x 5 = 15\n",
      "3 x 6 = 18\n",
      "3 x 7 = 21\n",
      "3 x 8 = 24\n",
      "3 x 9 = 27\n",
      "\n",
      "4단 시작!\n",
      "4 x 1 = 4\n",
      "4 x 2 = 8\n",
      "4 x 3 = 12\n",
      "4 x 4 = 16\n",
      "4 x 5 = 20\n",
      "4 x 6 = 24\n",
      "4 x 7 = 28\n",
      "4 x 8 = 32\n",
      "4 x 9 = 36\n",
      "\n",
      "5단 시작!\n",
      "5 x 1 = 5\n",
      "5 x 2 = 10\n",
      "5 x 3 = 15\n",
      "5 x 4 = 20\n",
      "5 x 5 = 25\n",
      "5 x 6 = 30\n",
      "5 x 7 = 35\n",
      "5 x 8 = 40\n",
      "5 x 9 = 45\n",
      "\n",
      "6단 시작!\n",
      "6 x 1 = 6\n",
      "6 x 2 = 12\n",
      "6 x 3 = 18\n",
      "6 x 4 = 24\n",
      "6 x 5 = 30\n",
      "6 x 6 = 36\n",
      "6 x 7 = 42\n",
      "6 x 8 = 48\n",
      "6 x 9 = 54\n",
      "\n",
      "7단 시작!\n",
      "7 x 1 = 7\n",
      "7 x 2 = 14\n",
      "7 x 3 = 21\n",
      "7 x 4 = 28\n",
      "7 x 5 = 35\n",
      "7 x 6 = 42\n",
      "7 x 7 = 49\n",
      "7 x 8 = 56\n",
      "7 x 9 = 63\n",
      "\n",
      "8단 시작!\n",
      "8 x 1 = 8\n",
      "8 x 2 = 16\n",
      "8 x 3 = 24\n",
      "8 x 4 = 32\n",
      "8 x 5 = 40\n",
      "8 x 6 = 48\n",
      "8 x 7 = 56\n",
      "8 x 8 = 64\n",
      "8 x 9 = 72\n",
      "\n",
      "9단 시작!\n",
      "9 x 1 = 9\n",
      "9 x 2 = 18\n",
      "9 x 3 = 27\n",
      "9 x 4 = 36\n",
      "9 x 5 = 45\n",
      "9 x 6 = 54\n",
      "9 x 7 = 63\n",
      "9 x 8 = 72\n",
      "9 x 9 = 81\n"
     ]
    }
   ],
   "source": [
    "for i in range(1,10):\n",
    "    print(f\"\\n{i}단 시작!\")\n",
    "    for w in range(1,10):\n",
    "        print(f\"{i} x {w} = {i*w}\")"
   ]
  },
  {
   "cell_type": "code",
   "execution_count": 58,
   "id": "59f13b97",
   "metadata": {},
   "outputs": [
    {
     "name": "stdout",
     "output_type": "stream",
     "text": [
      "0.14285714285714285\n",
      "0.16666666666666666\n",
      "0.2\n",
      "0.25\n",
      "0.3333333333333333\n",
      "0.5\n",
      "1.0\n"
     ]
    },
    {
     "ename": "ZeroDivisionError",
     "evalue": "division by zero",
     "output_type": "error",
     "traceback": [
      "\u001b[1;31m---------------------------------------------------------------------------\u001b[0m",
      "\u001b[1;31mZeroDivisionError\u001b[0m                         Traceback (most recent call last)",
      "Input \u001b[1;32mIn [58]\u001b[0m, in \u001b[0;36m<cell line: 1>\u001b[1;34m()\u001b[0m\n\u001b[0;32m      1\u001b[0m \u001b[38;5;28;01mfor\u001b[39;00m i \u001b[38;5;129;01min\u001b[39;00m \u001b[38;5;28mrange\u001b[39m(\u001b[38;5;241m10\u001b[39m):\n\u001b[1;32m----> 2\u001b[0m     \u001b[38;5;28mprint\u001b[39m(\u001b[38;5;241;43m1\u001b[39;49m\u001b[38;5;241;43m/\u001b[39;49m\u001b[43m(\u001b[49m\u001b[38;5;241;43m7\u001b[39;49m\u001b[38;5;241;43m-\u001b[39;49m\u001b[43mi\u001b[49m\u001b[43m)\u001b[49m)\n",
      "\u001b[1;31mZeroDivisionError\u001b[0m: division by zero"
     ]
    }
   ],
   "source": [
    "for i in range(10):\n",
    "    print(1/(7-i))"
   ]
  },
  {
   "cell_type": "code",
   "execution_count": null,
   "id": "d2b87550",
   "metadata": {},
   "outputs": [],
   "source": [
    "try:\n",
    "    에라가 날 수도 있는 코드가 에러가나지않을경우에 실행될 코드\n",
    "except:\n",
    "    에라가 날 수도 있는 코드가 에러가 났을 때 실행될 코드"
   ]
  },
  {
   "cell_type": "code",
   "execution_count": 59,
   "id": "0b428a4d",
   "metadata": {},
   "outputs": [
    {
     "name": "stdout",
     "output_type": "stream",
     "text": [
      "0.14285714285714285\n",
      "0.16666666666666666\n",
      "0.2\n",
      "0.25\n",
      "0.3333333333333333\n",
      "0.5\n",
      "1.0\n",
      "에러가 났습니다.\n",
      "-1.0\n",
      "-0.5\n"
     ]
    }
   ],
   "source": [
    "for i in range(10):\n",
    "    try:\n",
    "        print(1/(7-i))\n",
    "    except:\n",
    "        print(\"에러가 났습니다.\")"
   ]
  },
  {
   "cell_type": "code",
   "execution_count": 63,
   "id": "b410e963",
   "metadata": {},
   "outputs": [
    {
     "name": "stdout",
     "output_type": "stream",
     "text": [
      "3의 배수를 입력하세요 : 4\n"
     ]
    },
    {
     "ename": "Exception",
     "evalue": "뭐함?",
     "output_type": "error",
     "traceback": [
      "\u001b[1;31m---------------------------------------------------------------------------\u001b[0m",
      "\u001b[1;31mException\u001b[0m                                 Traceback (most recent call last)",
      "Input \u001b[1;32mIn [63]\u001b[0m, in \u001b[0;36m<cell line: 2>\u001b[1;34m()\u001b[0m\n\u001b[0;32m      1\u001b[0m a \u001b[38;5;241m=\u001b[39m \u001b[38;5;28mint\u001b[39m(\u001b[38;5;28minput\u001b[39m(\u001b[38;5;124m\"\u001b[39m\u001b[38;5;124m3의 배수를 입력하세요 : \u001b[39m\u001b[38;5;124m\"\u001b[39m))\n\u001b[0;32m      2\u001b[0m \u001b[38;5;28;01mif\u001b[39;00m a\u001b[38;5;241m%\u001b[39m\u001b[38;5;241m3\u001b[39m \u001b[38;5;241m!=\u001b[39m \u001b[38;5;241m0\u001b[39m:\n\u001b[1;32m----> 3\u001b[0m     \u001b[38;5;28;01mraise\u001b[39;00m \u001b[38;5;167;01mException\u001b[39;00m(\u001b[38;5;124m\"\u001b[39m\u001b[38;5;124m뭐함?\u001b[39m\u001b[38;5;124m\"\u001b[39m)\n\u001b[0;32m      4\u001b[0m \u001b[38;5;28;01melse\u001b[39;00m:\n\u001b[0;32m      5\u001b[0m     \u001b[38;5;28mprint\u001b[39m(a)\n",
      "\u001b[1;31mException\u001b[0m: 뭐함?"
     ]
    }
   ],
   "source": [
    "a = int(input(\"3의 배수를 입력하세요 : \"))\n",
    "if a%3 != 0:\n",
    "    raise Exception(\"뭐함?\")\n",
    "else:\n",
    "    print(a)"
   ]
  },
  {
   "cell_type": "code",
   "execution_count": 65,
   "id": "95fc502a",
   "metadata": {},
   "outputs": [
    {
     "name": "stderr",
     "output_type": "stream",
     "text": [
      "Cloning into 'neural-networks-and-deep-learning'...\n"
     ]
    }
   ],
   "source": [
    "!git clone https://github.com/fanghao6666/neural-networks-and-deep-learning.git"
   ]
  },
  {
   "cell_type": "code",
   "execution_count": 78,
   "id": "adfa46b6",
   "metadata": {},
   "outputs": [
    {
     "name": "stdout",
     "output_type": "stream",
     "text": [
      "338350\n"
     ]
    }
   ],
   "source": [
    "n=1\n",
    "k=0\n",
    "for i in range(1, 9):\n",
    "    n += 1\n",
    "    k = k+(i**2) \n",
    "print(k)"
   ]
  },
  {
   "cell_type": "code",
   "execution_count": 86,
   "id": "bc733a1a",
   "metadata": {},
   "outputs": [
    {
     "name": "stdout",
     "output_type": "stream",
     "text": [
      "25502500\n",
      "338350\n",
      "25164150\n"
     ]
    }
   ],
   "source": [
    "n=0\n",
    "m=0\n",
    "for i in range(1, 101):\n",
    "    n = n+i\n",
    "    m = m+(i**2)\n",
    "print(n**2)\n",
    "print(m)\n",
    "print((n**2)-m)"
   ]
  },
  {
   "cell_type": "code",
   "execution_count": 127,
   "id": "543b26b8",
   "metadata": {},
   "outputs": [
    {
     "data": {
      "text/plain": [
       "800"
      ]
     },
     "execution_count": 127,
     "metadata": {},
     "output_type": "execute_result"
    }
   ],
   "source": [
    "# gg =[[\"사과\",\"800원\"],[\"바나나\", \"1000원\"}],[\"포도\", \"8000원\"]]\n",
    "gg = {\"사과\":800, \"바나나\":1000, \"포도\":800}\n",
    "gg[\"사과\"]"
   ]
  },
  {
   "cell_type": "code",
   "execution_count": 94,
   "id": "0dd8c569",
   "metadata": {},
   "outputs": [
    {
     "data": {
      "text/plain": [
       "{'사과': 800, '바나나': 1000, '포도': 800, '파인애플': 1200}"
      ]
     },
     "execution_count": 94,
     "metadata": {},
     "output_type": "execute_result"
    }
   ],
   "source": [
    "gg[\"파인애플\"]=1200\n",
    "gg"
   ]
  },
  {
   "cell_type": "code",
   "execution_count": 95,
   "id": "01bd61bc",
   "metadata": {},
   "outputs": [
    {
     "data": {
      "text/plain": [
       "{'사과': 800, '바나나': 1000, '포도': 800}"
      ]
     },
     "execution_count": 95,
     "metadata": {},
     "output_type": "execute_result"
    }
   ],
   "source": [
    "del gg[\"파인애플\"]\n",
    "gg"
   ]
  },
  {
   "cell_type": "code",
   "execution_count": 96,
   "id": "32954b8f",
   "metadata": {},
   "outputs": [
    {
     "name": "stdout",
     "output_type": "stream",
     "text": [
      "사과\n",
      "바나나\n",
      "포도\n"
     ]
    }
   ],
   "source": [
    "for i in gg:\n",
    "    print(i)"
   ]
  },
  {
   "cell_type": "code",
   "execution_count": 97,
   "id": "1f5119cf",
   "metadata": {},
   "outputs": [
    {
     "data": {
      "text/plain": [
       "dict_values([800, 1000, 800])"
      ]
     },
     "execution_count": 97,
     "metadata": {},
     "output_type": "execute_result"
    }
   ],
   "source": [
    "gg.keys()\n",
    "gg.values()"
   ]
  },
  {
   "cell_type": "markdown",
   "id": "eda9229c",
   "metadata": {},
   "source": [
    "## 물가가 10% 올랐습니다.\n",
    "- gg 딕셔너리의 각 과일 가격을 10% 올려주세요"
   ]
  },
  {
   "cell_type": "code",
   "execution_count": 128,
   "id": "49adaf40",
   "metadata": {},
   "outputs": [
    {
     "data": {
      "text/plain": [
       "{'사과': 800, '바나나': 1000, '포도': 800}"
      ]
     },
     "execution_count": 128,
     "metadata": {},
     "output_type": "execute_result"
    }
   ],
   "source": [
    "gg"
   ]
  },
  {
   "cell_type": "code",
   "execution_count": 129,
   "id": "73cf5a5e",
   "metadata": {},
   "outputs": [
    {
     "data": {
      "text/plain": [
       "{'사과': 880, '바나나': 1100, '포도': 880}"
      ]
     },
     "execution_count": 129,
     "metadata": {},
     "output_type": "execute_result"
    }
   ],
   "source": [
    "for i in gg:\n",
    "    gg[i] = int(gg[i] * 1.1)\n",
    "gg"
   ]
  },
  {
   "cell_type": "markdown",
   "id": "63d789c4",
   "metadata": {},
   "source": [
    "### 전국 사과 가격의 평균을 구해주세요"
   ]
  },
  {
   "cell_type": "code",
   "execution_count": 130,
   "id": "d1eb10f7",
   "metadata": {},
   "outputs": [],
   "source": [
    "ggg = {\"서울점\": {\"사과\":800, \"바나나\":1000,\"포도\":800},\n",
    "       \"부산점\": {\"사과\":700, \"바나나\":900,\"포도\":900},\n",
    "       \"대구점\": {\"사과\":750, \"바나나\":800,\"포도\":1000}}"
   ]
  },
  {
   "cell_type": "code",
   "execution_count": 142,
   "id": "3f7901ab",
   "metadata": {},
   "outputs": [
    {
     "name": "stdout",
     "output_type": "stream",
     "text": [
      "750\n"
     ]
    }
   ],
   "source": [
    "n=0\n",
    "for i in ggg:\n",
    "    n = n + ggg[i][\"사과\"]\n",
    "print(int(n/len(i)))"
   ]
  },
  {
   "cell_type": "code",
   "execution_count": 150,
   "id": "7b63cab6",
   "metadata": {},
   "outputs": [],
   "source": [
    "ggg = {\"서울점\": {\"사과\":800, \"바나나\":1000,\"포도\":800},\n",
    "       \"부산점\": {\"사과\":700, \"바나나\":900,\"포도\":900},\n",
    "       \"대구점\": {\"사과\":750, \"바나나\":800,\"포도\":1000}}"
   ]
  },
  {
   "cell_type": "code",
   "execution_count": 152,
   "id": "b205488e",
   "metadata": {},
   "outputs": [],
   "source": [
    "def add(x, y):\n",
    "    return x + y"
   ]
  },
  {
   "cell_type": "code",
   "execution_count": 154,
   "id": "bd83a34b",
   "metadata": {},
   "outputs": [
    {
     "data": {
      "text/plain": [
       "5"
      ]
     },
     "execution_count": 154,
     "metadata": {},
     "output_type": "execute_result"
    }
   ],
   "source": [
    "add(2, 3)"
   ]
  },
  {
   "cell_type": "code",
   "execution_count": 157,
   "id": "006be794",
   "metadata": {},
   "outputs": [],
   "source": [
    "def hjjh(x, y):\n",
    "    n=0\n",
    "    m=0\n",
    "    for i in range(x, y+1):\n",
    "        n = n+i\n",
    "        m = m+(i**2)\n",
    "    return n**2-m"
   ]
  },
  {
   "cell_type": "code",
   "execution_count": null,
   "id": "b8b273e5",
   "metadata": {},
   "outputs": [],
   "source": []
  },
  {
   "cell_type": "code",
   "execution_count": 158,
   "id": "1981ce7f",
   "metadata": {},
   "outputs": [
    {
     "data": {
      "text/plain": [
       "25164150"
      ]
     },
     "execution_count": 158,
     "metadata": {},
     "output_type": "execute_result"
    }
   ],
   "source": [
    "hjjh(1,100)"
   ]
  },
  {
   "cell_type": "code",
   "execution_count": null,
   "id": "f4298624",
   "metadata": {},
   "outputs": [],
   "source": []
  }
 ],
 "metadata": {
  "kernelspec": {
   "display_name": "Python 3 (ipykernel)",
   "language": "python",
   "name": "python3"
  },
  "language_info": {
   "codemirror_mode": {
    "name": "ipython",
    "version": 3
   },
   "file_extension": ".py",
   "mimetype": "text/x-python",
   "name": "python",
   "nbconvert_exporter": "python",
   "pygments_lexer": "ipython3",
   "version": "3.9.12"
  }
 },
 "nbformat": 4,
 "nbformat_minor": 5
}
